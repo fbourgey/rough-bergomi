{
 "cells": [
  {
   "cell_type": "markdown",
   "id": "3907b529",
   "metadata": {},
   "source": [
    "# 1. Imports"
   ]
  },
  {
   "cell_type": "code",
   "execution_count": 1,
   "id": "664edf85",
   "metadata": {},
   "outputs": [],
   "source": [
    "%load_ext autoreload\n",
    "%autoreload 2"
   ]
  },
  {
   "cell_type": "code",
   "execution_count": 2,
   "id": "58fc09d0",
   "metadata": {},
   "outputs": [],
   "source": [
    "import matplotlib.pyplot as plt\n",
    "from rbergomi import RoughBergomi\n",
    "import seaborn as sns\n",
    "import numpy as np\n",
    "import utils\n",
    "from scipy import stats\n",
    "\n",
    "sns.set_style(\"darkgrid\")"
   ]
  },
  {
   "cell_type": "code",
   "execution_count": 3,
   "id": "d5a6a084",
   "metadata": {},
   "outputs": [],
   "source": [
    "# Set model parameters\n",
    "\n",
    "params = {\n",
    "    \"s0\": 1.0,\n",
    "    \"xi0\": lambda u: np.ones_like(u) * 0.235**2,\n",
    "    \"eta\": 1.0,\n",
    "    \"H\": 0.3,\n",
    "    \"rho\": -0.7,\n",
    "}\n",
    "\n",
    "rbergomi = RoughBergomi(**params)"
   ]
  },
  {
   "cell_type": "code",
   "execution_count": 88,
   "id": "139b36e2",
   "metadata": {},
   "outputs": [],
   "source": [
    "# generate paths\n",
    "SEED = 1234\n",
    "maturity = 1.0\n",
    "n_disc = 300\n",
    "tab_t = np.linspace(0.0, maturity, n_disc + 1)\n",
    "dt = tab_t[1] - tab_t[0]\n",
    "n_mc = 3 * 10**5\n",
    "n_loop = 3"
   ]
  },
  {
   "cell_type": "code",
   "execution_count": 67,
   "id": "ca6eb6c6",
   "metadata": {},
   "outputs": [],
   "source": [
    "# paths = rbergomi.simulate(tab_t=tab_t, n_mc=n_mc, seed=SEED, conditioning=False)\n",
    "# res = rbergomi.implied_vol(\n",
    "#     T=maturity,\n",
    "#     int_v_dt=paths[\"int_v_dt\"],\n",
    "#     int_sqrt_v_dw=paths[\"int_sqrt_v_dw\"],\n",
    "#     return_skew=True,\n",
    "# )\n",
    "# print(res)"
   ]
  },
  {
   "cell_type": "code",
   "execution_count": 68,
   "id": "ef32de9a",
   "metadata": {},
   "outputs": [],
   "source": [
    "# paths = rbergomi.simulate(tab_t=tab_t, n_mc=n_mc, seed=SEED, conditioning=True)\n",
    "# res = rbergomi.implied_vol(\n",
    "#     T=maturity,\n",
    "#     int_v_dt=paths[\"int_v_dt\"],\n",
    "#     int_sqrt_v_dw=paths[\"int_sqrt_v_dw\"],\n",
    "#     conditioning=True,\n",
    "#     return_skew=True,\n",
    "# )\n",
    "# print(res)"
   ]
  },
  {
   "cell_type": "code",
   "execution_count": 69,
   "id": "dcd03bf1",
   "metadata": {},
   "outputs": [],
   "source": [
    "# rbergomi.atm_local_vol_skew(\n",
    "#     v_t=paths[\"v\"][-1, :],\n",
    "#     int_v_dt=paths[\"int_v_dt\"],\n",
    "#     int_sqrt_v_dw=paths[\"int_sqrt_v_dw\"],\n",
    "# )"
   ]
  },
  {
   "cell_type": "code",
   "execution_count": 90,
   "id": "930eff29",
   "metadata": {},
   "outputs": [],
   "source": [
    "paths = rbergomi.simulate(\n",
    "    tab_t=tab_t, n_mc=n_mc, n_loop=n_loop, seed=SEED, conditioning=True\n",
    ")\n",
    "w = paths[\"w\"]\n",
    "v = paths[\"v\"]\n",
    "paths = None"
   ]
  },
  {
   "cell_type": "code",
   "execution_count": 72,
   "id": "829fe96b",
   "metadata": {},
   "outputs": [],
   "source": [
    "int_sqrt_v_dw_cumsum = np.cumsum(np.sqrt(v[:-1, :]) * np.diff(w, axis=0), axis=0)\n",
    "int_v_dt_cumsum = np.cumsum(v[:-1, :] * dt, axis=0)\n",
    "int_sqrt_v_dw_cumsum = np.insert(int_sqrt_v_dw_cumsum, 0, 0.0, axis=0)\n",
    "int_v_dt_cumsum = np.insert(int_v_dt_cumsum, 0, 0.0, axis=0)\n",
    "s_cumsum = rbergomi.s0 * np.exp(int_sqrt_v_dw_cumsum - 0.5 * int_v_dt_cumsum)"
   ]
  },
  {
   "cell_type": "code",
   "execution_count": 77,
   "id": "c0bb6d2e",
   "metadata": {},
   "outputs": [
    {
     "name": "stdout",
     "output_type": "stream",
     "text": [
      "split in 6 parts, each with 50 time steps\n"
     ]
    }
   ],
   "source": [
    "n_split = n_disc // 50\n",
    "\n",
    "int_sqrt_v_dw_split = np.array(\n",
    "    [t[-1] for t in np.split(int_sqrt_v_dw_cumsum[1:], n_split, axis=0)]\n",
    ")\n",
    "int_v_dt_split = np.array(\n",
    "    [t[-1] for t in np.split(int_v_dt_cumsum[1:], n_split, axis=0)]\n",
    ")\n",
    "v_split = np.array([t[-1] for t in np.split(v[1:, :], n_split, axis=0)])\n",
    "tab_t_split = np.array([t[-1] for t in np.split(tab_t[1:], n_split)])\n",
    "\n",
    "print(f\"split in {n_split} parts, each with {n_disc // n_split} time steps\")"
   ]
  },
  {
   "cell_type": "code",
   "execution_count": 78,
   "id": "8ae35352",
   "metadata": {},
   "outputs": [
    {
     "data": {
      "text/plain": [
       "(6, 300000)"
      ]
     },
     "execution_count": 78,
     "metadata": {},
     "output_type": "execute_result"
    }
   ],
   "source": [
    "v_split.shape"
   ]
  },
  {
   "cell_type": "code",
   "execution_count": 79,
   "id": "37af102f",
   "metadata": {},
   "outputs": [
    {
     "name": "stderr",
     "output_type": "stream",
     "text": [
      "/var/folders/cx/lqg_nbts2gd5hgdpftngz4z80000gn/T/ipykernel_96559/1485233578.py:6: DeprecationWarning: Conversion of an array with ndim > 0 to a scalar is deprecated, and will error in future. Ensure you extract a single element from your array before performing this operation. (Deprecated NumPy 1.25.)\n",
      "  atm_implied_vol[i], atm_implied_vol_skew[i] = rbergomi.implied_vol(\n"
     ]
    }
   ],
   "source": [
    "atm_implied_vol = np.zeros(n_split)\n",
    "atm_implied_vol_skew = np.zeros(n_split)\n",
    "atm_local_vol_skew = np.zeros(n_split)\n",
    "\n",
    "for i in range(n_split):\n",
    "    atm_implied_vol[i], atm_implied_vol_skew[i] = rbergomi.implied_vol(\n",
    "        T=tab_t_split[i],\n",
    "        int_v_dt=int_v_dt_split[i, :],\n",
    "        int_sqrt_v_dw=int_sqrt_v_dw_split[i, :],\n",
    "        conditioning=True,\n",
    "        return_skew=True,\n",
    "    )\n",
    "    atm_local_vol_skew[i] = rbergomi.atm_local_vol_skew(\n",
    "        v_t=v_split[i, :],\n",
    "        int_v_dt=int_v_dt_split[i, :],\n",
    "        int_sqrt_v_dw=int_sqrt_v_dw_split[i, :],\n",
    "    )"
   ]
  },
  {
   "cell_type": "code",
   "execution_count": 80,
   "id": "dab58820",
   "metadata": {},
   "outputs": [
    {
     "name": "stdout",
     "output_type": "stream",
     "text": [
      "0.5555555555555556\n",
      "[0.53799861 0.53864651 0.54154585 0.55355296 0.55889716 0.56175291]\n"
     ]
    }
   ],
   "source": [
    "print(1.0 / (rbergomi.H + 1.5))\n",
    "print(atm_implied_vol_skew / atm_local_vol_skew)"
   ]
  },
  {
   "cell_type": "code",
   "execution_count": 83,
   "id": "b0c4d10e",
   "metadata": {},
   "outputs": [
    {
     "data": {
      "image/png": "[encoded data removed]",
      "text/plain": [
       "<Figure size 640x480 with 1 Axes>"
      ]
     },
     "metadata": {},
     "output_type": "display_data"
    }
   ],
   "source": [
    "plt.close()\n",
    "fig, ax = plt.subplots()\n",
    "ax.plot(\n",
    "    tab_t_split,\n",
    "    atm_implied_vol_skew,\n",
    "    \"--s\",\n",
    "    label=\"$\\\\partial_k \\\\sigma_{BS}(T,k)|_{k=0}$\",\n",
    ")\n",
    "ax.plot(\n",
    "    tab_t_split,\n",
    "    atm_local_vol_skew,\n",
    "    \"--.\",\n",
    "    label=\"$\\\\partial_k \\\\sigma_{loc}(T,k)|_{k=0}$\",\n",
    ")\n",
    "ax.set_xlabel(\"T\")\n",
    "ax.set_xlim(0.0, tab_t_split[-1] * 1.05)\n",
    "# plt.title(\n",
    "#     f\"$\\\\xi_0={round(xi0, 3)}$, $\\\\eta={eta}$, $H={H}$, $\\\\rho={rho}$, $\\\\theta={theta}$, $n={n}$, $M={M:.1e}$\",\n",
    "#     size=12,\n",
    "# )\n",
    "ax.legend(fontsize=15)\n",
    "plt.show()"
   ]
  },
  {
   "cell_type": "code",
   "execution_count": 85,
   "id": "d95c5c5e",
   "metadata": {},
   "outputs": [],
   "source": [
    "label = \"$\\\\frac{\\\\partial_x \\\\sigma_{BS}(T,x)|_{x=0}}{\\\\partial_x \\\\sigma_{loc}(T,x)|_{x=0}}$\""
   ]
  },
  {
   "cell_type": "code",
   "execution_count": 87,
   "id": "87dd7481",
   "metadata": {},
   "outputs": [
    {
     "data": {
      "image/png": "[encoded data removed]",
      "text/plain": [
       "<Figure size 640x480 with 1 Axes>"
      ]
     },
     "metadata": {},
     "output_type": "display_data"
    }
   ],
   "source": [
    "plt.close()\n",
    "fig, ax = plt.subplots()\n",
    "plt.plot(tab_t_split, atm_implied_vol_skew / atm_local_vol_skew, \".\", label=label)\n",
    "plt.plot(\n",
    "    tab_t,\n",
    "    1.0 / (rbergomi.H + 1.5) * np.ones_like(tab_t),\n",
    "    \"-\",\n",
    "    label=\"$\\\\frac{1}{H+\\\\frac{3}{2}}$\",\n",
    ")\n",
    "ax.set_xlabel(\"T\")\n",
    "plt.show()"
   ]
  },
  {
   "cell_type": "code",
   "execution_count": null,
   "id": "40348137",
   "metadata": {},
   "outputs": [],
   "source": [
    "# Simulate cases: H=0.1, 0.3, 0.5"
   ]
  }
 ],
 "metadata": {
  "kernelspec": {
   "display_name": ".venv",
   "language": "python",
   "name": "python3"
  },
  "language_info": {
   "codemirror_mode": {
    "name": "ipython",
    "version": 3
   },
   "file_extension": ".py",
   "mimetype": "text/x-python",
   "name": "python",
   "nbconvert_exporter": "python",
   "pygments_lexer": "ipython3",
   "version": "3.11.11"
  }
 },
 "nbformat": 4,
 "nbformat_minor": 5
}
