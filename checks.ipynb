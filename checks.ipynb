{
 "cells": [
  {
   "cell_type": "code",
   "execution_count": 1,
   "id": "4907097e",
   "metadata": {},
   "outputs": [],
   "source": [
    "%load_ext autoreload\n",
    "%autoreload 2\n",
    "%config InlineBackend.figure_format = 'retina'"
   ]
  },
  {
   "cell_type": "code",
   "execution_count": 2,
   "id": "fc16b48d",
   "metadata": {},
   "outputs": [],
   "source": [
    "import numpy as np\n",
    "from scipy import integrate\n",
    "\n",
    "from rbergomi import RoughBergomi"
   ]
  },
  {
   "cell_type": "code",
   "execution_count": 10,
   "id": "7501e8f3",
   "metadata": {},
   "outputs": [
    {
     "name": "stdout",
     "output_type": "stream",
     "text": [
      "{'s0': 1.0, 'xi0': <function <lambda> at 0x1101cce00>, 'rho': -0.7, 'H': 0.1, 'eta': 1.2}\n"
     ]
    }
   ],
   "source": [
    "params = {\n",
    "    \"s0\": 1.0,\n",
    "    \"xi0\": lambda u: np.ones_like(u) * 0.235**2,\n",
    "    \"rho\": -0.7,\n",
    "    \"H\": 0.1,\n",
    "    \"eta\": 1.2,\n",
    "}\n",
    "# params[\"eta\"] = 1.3 * np.sqrt(2.0 * params[\"H\"])\n",
    "print(params)\n",
    "\n",
    "rbergomi = RoughBergomi(**params)"
   ]
  },
  {
   "cell_type": "code",
   "execution_count": 11,
   "id": "24c3aa54",
   "metadata": {},
   "outputs": [],
   "source": [
    "# TODO:\n",
    "# fix coefficients and tests (gamma1, gamma2, gamma3)\n",
    "# generate vix paths"
   ]
  },
  {
   "cell_type": "code",
   "execution_count": 72,
   "id": "2cc64299",
   "metadata": {},
   "outputs": [
    {
     "data": {
      "text/plain": [
       "array([0.39756536, 0.39762735, 0.39772749, 0.39785624, 0.39798975,\n",
       "       0.39811373, 0.39821863, 0.39833307, 0.39845705, 0.39857149,\n",
       "       0.39866686])"
      ]
     },
     "execution_count": 72,
     "metadata": {},
     "output_type": "execute_result"
    }
   ],
   "source": [
    "T = 1.2\n",
    "n_disc = 300\n",
    "n_mc = 10**5\n",
    "\n",
    "k = np.linspace(-0.1, 0.1, 11)\n",
    "rbergomi.implied_vol_vix(k=k, T=T, n_disc=n_disc, n_mc=n_mc)"
   ]
  },
  {
   "cell_type": "code",
   "execution_count": 80,
   "id": "a6385f9c",
   "metadata": {},
   "outputs": [
    {
     "data": {
      "text/plain": [
       "array([0.39555788, 0.39573431, 0.39590597, 0.3960824 , 0.39625406,\n",
       "       0.39643049, 0.39660215, 0.39677858, 0.39695024, 0.39712667,\n",
       "       0.39729834])"
      ]
     },
     "execution_count": 80,
     "metadata": {},
     "output_type": "execute_result"
    }
   ],
   "source": [
    "rbergomi.implied_vol_vix_approx(T=T, k=k, order=3)"
   ]
  },
  {
   "cell_type": "code",
   "execution_count": 96,
   "id": "095ac2db",
   "metadata": {},
   "outputs": [],
   "source": [
    "T = 1.0 / 12.0\n",
    "vix_fut_mc = 100 * rbergomi.price_vix_fut(T=T, n_disc=n_disc, n_mc=n_mc, rule=\"trap\")"
   ]
  },
  {
   "cell_type": "code",
   "execution_count": 97,
   "id": "86e07955",
   "metadata": {},
   "outputs": [],
   "source": [
    "vix_fut_approx = 100.0 * rbergomi.price_vix_fut_approx(T=T, order=3)"
   ]
  },
  {
   "cell_type": "code",
   "execution_count": 98,
   "id": "9b3d66c3",
   "metadata": {},
   "outputs": [
    {
     "name": "stdout",
     "output_type": "stream",
     "text": [
      "VIX future MC: 22.9028\n",
      "VIX future approx: 22.8972\n"
     ]
    }
   ],
   "source": [
    "print(f\"VIX future MC: {vix_fut_mc:.4f}\")\n",
    "print(f\"VIX future approx: {vix_fut_approx:.4f}\")"
   ]
  },
  {
   "cell_type": "code",
   "execution_count": 92,
   "id": "1dd28e97",
   "metadata": {},
   "outputs": [
    {
     "data": {
      "text/plain": [
       "array([0.03681637])"
      ]
     },
     "execution_count": 92,
     "metadata": {},
     "output_type": "execute_result"
    }
   ],
   "source": [
    "rbergomi.price_vix(k=0.0, T=T, n_disc=n_disc, n_mc=n_mc, rule=\"left\")"
   ]
  },
  {
   "cell_type": "code",
   "execution_count": 70,
   "id": "14bcfeb1",
   "metadata": {},
   "outputs": [
    {
     "data": {
      "text/plain": [
       "np.float64(0.020555203823353435)"
      ]
     },
     "execution_count": 70,
     "metadata": {},
     "output_type": "execute_result"
    }
   ],
   "source": [
    "order = 3\n",
    "rbergomi.price_vix_approx(\n",
    "    K=rbergomi.price_vix_fut_approx(T=T, order=order), T=T, order=order\n",
    ")"
   ]
  },
  {
   "cell_type": "code",
   "execution_count": 71,
   "id": "ca7d56a5",
   "metadata": {},
   "outputs": [
    {
     "data": {
      "text/plain": [
       "array([0.7811451])"
      ]
     },
     "execution_count": 71,
     "metadata": {},
     "output_type": "execute_result"
    }
   ],
   "source": [
    "k = [-0.05, 0.0, 0.05]\n",
    "k = np.atleast_1d(np.asarray(k))\n",
    "F = rbergomi.price_vix_fut_approx(T=T, order=3)\n",
    "K = F * np.exp(k)\n",
    "\n",
    "rbergomi.implied_vol_vix_approx(T=T, k=0.0)"
   ]
  },
  {
   "cell_type": "code",
   "execution_count": null,
   "id": "fd89f855",
   "metadata": {},
   "outputs": [
    {
     "name": "stdout",
     "output_type": "stream",
     "text": [
      "-0.33144981698477705\n",
      "-0.33144981698477993\n"
     ]
    }
   ],
   "source": [
    "T = 0.8\n",
    "\n",
    "\n",
    "print(rbergomi.mean_proxy(T, quad_scipy=True))\n",
    "print(rbergomi.mean_proxy_flat(T))"
   ]
  },
  {
   "cell_type": "code",
   "execution_count": 15,
   "id": "c7bd2d07",
   "metadata": {},
   "outputs": [
    {
     "name": "stdout",
     "output_type": "stream",
     "text": [
      "0.6530213939464953\n",
      "0.6530213939471478\n"
     ]
    }
   ],
   "source": [
    "print(rbergomi.var_proxy(T, quad_scipy=True))\n",
    "print(rbergomi.var_proxy_flat(T))"
   ]
  },
  {
   "cell_type": "code",
   "execution_count": 89,
   "id": "f6941fb3",
   "metadata": {},
   "outputs": [
    {
     "name": "stdout",
     "output_type": "stream",
     "text": [
      "0.006647646313948319\n",
      "0.00667600218698899\n"
     ]
    }
   ],
   "source": [
    "print(rbergomi.gamma_1_proxy(T, n_quad=80))\n",
    "print(rbergomi.gamma_1_proxy_flat(T))"
   ]
  },
  {
   "cell_type": "code",
   "execution_count": 85,
   "id": "fce9a51f",
   "metadata": {},
   "outputs": [
    {
     "name": "stdout",
     "output_type": "stream",
     "text": [
      "-0.0030691394044134734\n",
      "-0.003070088319012787\n",
      "-0.003073745696086594\n"
     ]
    }
   ],
   "source": [
    "print(rbergomi.gamma_2_proxy(T, n_quad=80))\n",
    "print(rbergomi.gamma_2_proxy_flat(T, quad_scipy=False, n_quad=80))\n",
    "print(rbergomi.gamma_2_proxy_flat(T, quad_scipy=True))"
   ]
  },
  {
   "cell_type": "code",
   "execution_count": 91,
   "id": "8dc9b146",
   "metadata": {},
   "outputs": [
    {
     "name": "stdout",
     "output_type": "stream",
     "text": [
      "0.001388674194143182\n",
      "0.0013869274255390862\n",
      "0.0013891498337460506\n"
     ]
    }
   ],
   "source": [
    "print(rbergomi.gamma_3_proxy(T, n_quad=80))\n",
    "print(rbergomi.gamma_3_proxy_flat(T, quad_scipy=False, n_quad=80))\n",
    "print(rbergomi.gamma_3_proxy_flat(T, quad_scipy=True))"
   ]
  },
  {
   "cell_type": "code",
   "execution_count": null,
   "id": "332d74b1",
   "metadata": {},
   "outputs": [],
   "source": []
  }
 ],
 "metadata": {
  "kernelspec": {
   "display_name": ".venv",
   "language": "python",
   "name": "python3"
  },
  "language_info": {
   "codemirror_mode": {
    "name": "ipython",
    "version": 3
   },
   "file_extension": ".py",
   "mimetype": "text/x-python",
   "name": "python",
   "nbconvert_exporter": "python",
   "pygments_lexer": "ipython3",
   "version": "3.11.11"
  }
 },
 "nbformat": 4,
 "nbformat_minor": 5
}
