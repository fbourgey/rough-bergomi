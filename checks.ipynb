{
 "cells": [
  {
   "cell_type": "code",
   "execution_count": 2,
   "id": "4907097e",
   "metadata": {},
   "outputs": [],
   "source": [
    "%load_ext autoreload\n",
    "%autoreload 2\n",
    "%config InlineBackend.figure_format = 'retina'"
   ]
  },
  {
   "cell_type": "code",
   "execution_count": 3,
   "id": "fc16b48d",
   "metadata": {},
   "outputs": [],
   "source": [
    "import numpy as np\n",
    "from scipy import integrate\n",
    "\n",
    "from rbergomi import RoughBergomi"
   ]
  },
  {
   "cell_type": "code",
   "execution_count": 4,
   "id": "7501e8f3",
   "metadata": {},
   "outputs": [],
   "source": [
    "params = {\n",
    "    \"s0\": 1.0,\n",
    "    \"xi0\": lambda u: np.ones_like(u) * 0.235**2,\n",
    "    \"eta\": 1.0,\n",
    "    \"rho\": -0.7,\n",
    "    \"H\": 0.1,\n",
    "}\n",
    "\n",
    "rbergomi = RoughBergomi(**params)"
   ]
  },
  {
   "cell_type": "code",
   "execution_count": null,
   "id": "24c3aa54",
   "metadata": {},
   "outputs": [
    {
     "name": "stderr",
     "output_type": "stream",
     "text": [
      "/Users/florianbourgey/projects/rough-bergomi/rbergomi.py:843: RuntimeWarning: invalid value encountered in power\n",
      "  return self.eta * np.sqrt(2.0 * self.H) * (u - t) ** (self.H - 0.5)\n"
     ]
    },
    {
     "data": {
      "text/plain": [
       "np.float64(nan)"
      ]
     },
     "execution_count": 12,
     "metadata": {},
     "output_type": "execute_result"
    }
   ],
   "source": [
    "# TODO:\n",
    "# fix coefficients and tests (gamma1, gamma2, gamma3)\n",
    "# generate vix paths"
   ]
  },
  {
   "cell_type": "code",
   "execution_count": 31,
   "id": "2cc64299",
   "metadata": {},
   "outputs": [
    {
     "data": {
      "text/plain": [
       "array([0.33280566, 0.33293888, 0.33303127, 0.33304825, 0.33301845,\n",
       "       0.33297732, 0.33296838, 0.33304617, 0.33310369, 0.33317253,\n",
       "       0.33313349])"
      ]
     },
     "execution_count": 31,
     "metadata": {},
     "output_type": "execute_result"
    }
   ],
   "source": [
    "T = 1.2\n",
    "n_disc = 100\n",
    "n_mc = 10**4\n",
    "\n",
    "k = np.linspace(-0.1, 0.1, 11)\n",
    "rbergomi.implied_vol_vix(k=k, T=T, n_disc=n_disc, n_mc=n_mc)"
   ]
  },
  {
   "cell_type": "code",
   "execution_count": null,
   "id": "fd89f855",
   "metadata": {},
   "outputs": [],
   "source": []
  }
 ],
 "metadata": {
  "kernelspec": {
   "display_name": ".venv",
   "language": "python",
   "name": "python3"
  },
  "language_info": {
   "codemirror_mode": {
    "name": "ipython",
    "version": 3
   },
   "file_extension": ".py",
   "mimetype": "text/x-python",
   "name": "python",
   "nbconvert_exporter": "python",
   "pygments_lexer": "ipython3",
   "version": "3.11.11"
  }
 },
 "nbformat": 4,
 "nbformat_minor": 5
}
