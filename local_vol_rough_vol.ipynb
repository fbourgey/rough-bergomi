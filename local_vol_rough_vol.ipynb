{
 "cells": [
  {
   "cell_type": "markdown",
   "id": "582c2242",
   "metadata": {},
   "source": [
    "<font color=\"orange\">Local volatility under rough volatility</font>"
   ]
  },
  {
   "cell_type": "markdown",
   "id": "ae65fb09",
   "metadata": {},
   "source": [
    "\n",
    "The rough Bergomi model is defined as:\n",
    "\n",
    "\\begin{align*}\n",
    "    dS_t &= S_t \\sqrt{\\xi_t^t} dW_t^S, \\\\\n",
    "    \\xi_t^u &= \\xi_0^u \\exp \\left\\{\n",
    "        \\eta Y_t^u - \\frac{\\eta^2}{2} (u^{2H} - (u-t)^{2H})\n",
    "    \\right\\}\n",
    "\\end{align*}\n",
    "\n",
    "where \n",
    "\n",
    "$$\n",
    "    Y_t^u = \\sqrt{2H} \\int_0^t (u-s)^{H-1/2} dW_s^V.\n",
    "$$\n",
    "\n",
    "The correlation between the Brownian motions $W^S$ and $W^V$ is given by $\\rho$."
   ]
  },
  {
   "cell_type": "markdown",
   "id": "3907b529",
   "metadata": {},
   "source": [
    "# 1. Imports"
   ]
  },
  {
   "cell_type": "code",
   "execution_count": null,
   "id": "664edf85",
   "metadata": {},
   "outputs": [],
   "source": [
    "%load_ext autoreload\n",
    "%autoreload 2\n",
    "%config InlineBackend.figure_format = 'retina'"
   ]
  },
  {
   "cell_type": "code",
   "execution_count": null,
   "id": "58fc09d0",
   "metadata": {},
   "outputs": [],
   "source": [
    "import matplotlib.pyplot as plt\n",
    "import matplotlib as mpl\n",
    "from rbergomi import RoughBergomi\n",
    "import numpy as np\n",
    "from scipy import integrate\n",
    "import time\n",
    "import seaborn as sns\n",
    "\n",
    "sns.set_theme(\"talk\")\n",
    "mpl.rcParams[\"figure.figsize\"] = (8, 6)"
   ]
  },
  {
   "cell_type": "code",
   "execution_count": null,
   "id": "d5a6a084",
   "metadata": {},
   "outputs": [],
   "source": [
    "# Set model parameters and create three instances of the rough Bergomi model with\n",
    "# H = 0.1, 0.3, and 0.5\n",
    "\n",
    "list_H = [0.1, 0.3, 0.5]\n",
    "\n",
    "params = {\n",
    "    \"s0\": 1.0,\n",
    "    \"xi0\": lambda u: np.ones_like(u) * 0.235**2,\n",
    "    \"eta\": 1.0,\n",
    "    \"rho\": -0.7,\n",
    "}\n",
    "\n",
    "rbergomi_models = {f\"H={H}\": RoughBergomi(**params, H=H) for H in list_H}"
   ]
  },
  {
   "cell_type": "code",
   "execution_count": null,
   "id": "139b36e2",
   "metadata": {},
   "outputs": [],
   "source": [
    "colors = {0.1: \"blue\", 0.3: \"green\", 0.5: \"red\"}\n",
    "markers = {0.1: \".\", 0.3: \"+\", 0.5: \"x\"}\n",
    "seed = 1234\n",
    "n_disc = 300\n",
    "n_mc = 3 * 10**5\n",
    "n_loop = 1"
   ]
  },
  {
   "cell_type": "markdown",
   "id": "2b0434f6",
   "metadata": {},
   "source": [
    "We compute the: \n",
    "\n",
    "- ATM local volatility skew $\\partial_k \\sigma_{loc}(T,k)|_{k=0}$\n",
    "- ATM implied volatility skew $\\partial_k \\sigma_{BS}(T,k)|_{k=0}$ \n",
    "\n",
    "and compare them."
   ]
  },
  {
   "cell_type": "code",
   "execution_count": null,
   "id": "33dc5b42",
   "metadata": {},
   "outputs": [],
   "source": [
    "# # option to simulate one path and then split.\n",
    "# # n_disc_split = number of time steps for each split\n",
    "# # this is faster than the alternative of resimulating each time but less precise.\n",
    "\n",
    "# tab_t = np.linspace(0.0, 0.5, n_disc + 1)\n",
    "# dt = tab_t[1] - tab_t[0]\n",
    "# n_disc_split = 100\n",
    "\n",
    "# atm_impvols = {}\n",
    "# atm_impvol_skews = {}\n",
    "# atm_lvs = {}\n",
    "# atm_lv_skews = {}\n",
    "\n",
    "# for H in list_H:\n",
    "#     t0 = time.time()\n",
    "#     print(\"H =\", H)\n",
    "#     res = rbergomi_models[f\"H={H}\"].atm_implied_vol_local_vol_skew(\n",
    "#         tab_t=tab_t, n_mc=n_mc, n_loop=n_loop, seed=seed, n_disc_split=n_disc_split\n",
    "#     )\n",
    "#     atm_impvols[f\"H={H}\"], atm_impvol_skews[f\"H={H}\"] = res[1]\n",
    "#     atm_lvs[f\"H={H}\"], atm_lv_skews[f\"H={H}\"] = res[2]\n",
    "#     print(f\"time taken: {(time.time() - t0):.2f} seconds\\n\")\n",
    "\n",
    "# list_maturity = [t[-1] for t in np.split(tab_t[1:], n_disc // n_disc_split)]"
   ]
  },
  {
   "cell_type": "code",
   "execution_count": null,
   "id": "d6d27f9a",
   "metadata": {},
   "outputs": [],
   "source": [
    "# For each H and maturity in list_maturity, we compute the ATM implied vol, local vol,\n",
    "# and their skews.\n",
    "\n",
    "list_maturity = [0.1, 0.2, 0.3, 0.4, 0.5]\n",
    "\n",
    "atm_impvols = {}\n",
    "atm_impvol_skews = {}\n",
    "atm_lvs = {}\n",
    "atm_lv_skews = {}\n",
    "\n",
    "for H in list_H:\n",
    "    t0 = time.time()\n",
    "    print(\"H =\", H)\n",
    "    res_impvol = np.zeros((2, len(list_maturity)))\n",
    "    res_lv = np.zeros((2, len(list_maturity)))\n",
    "    for i, maturity in enumerate(list_maturity):\n",
    "        print(f\"maturity = {maturity}\")\n",
    "        tab_t = np.linspace(0.0, maturity, n_disc + 1)\n",
    "        tmp = rbergomi_models[f\"H={H}\"].atm_implied_vol_local_vol_skew(\n",
    "            tab_t=tab_t, n_mc=n_mc, n_loop=n_loop, seed=seed, n_disc_split=n_disc\n",
    "        )\n",
    "        res_impvol[:, i] = np.asarray(tmp[1]).flatten()\n",
    "        res_lv[:, i] = np.asarray(tmp[2]).flatten()\n",
    "    print(\"\\n\")\n",
    "    atm_impvols[f\"H={H}\"], atm_impvol_skews[f\"H={H}\"] = res_impvol\n",
    "    atm_lvs[f\"H={H}\"], atm_lv_skews[f\"H={H}\"] = res_lv\n",
    "    print(f\"time taken: {(time.time() - t0):.2f} seconds\\n\")"
   ]
  },
  {
   "cell_type": "code",
   "execution_count": null,
   "id": "b0c4d10e",
   "metadata": {},
   "outputs": [],
   "source": [
    "plt.close()\n",
    "fig, ax = plt.subplots(1, 3, figsize=(8 * 3, 6))\n",
    "for i in range(len(list_H)):\n",
    "    H = list_H[i]\n",
    "    ax[i].plot(\n",
    "        list_maturity,\n",
    "        atm_impvol_skews[f\"H={H}\"],\n",
    "        \"x\",\n",
    "        label=\"$\\\\partial_k \\\\sigma_{BS}(T,k)|_{k=0}$\",\n",
    "        color=colors[H],\n",
    "    )\n",
    "    ax[i].plot(\n",
    "        list_maturity,\n",
    "        atm_lv_skews[f\"H={H}\"],\n",
    "        \".\",\n",
    "        label=\"$\\\\partial_k \\\\sigma_{loc}(T,k)|_{k=0}$\",\n",
    "        color=colors[H],\n",
    "    )\n",
    "    ax[i].set_title(f\"$H={H}$\")\n",
    "    ax[i].set_xlabel(\"$T$\")\n",
    "    ax[i].legend()\n",
    "plt.show()"
   ]
  },
  {
   "cell_type": "markdown",
   "id": "2e256a02",
   "metadata": {},
   "source": [
    "We want to check the \"$H+3/2$\" rule, that is\n",
    "\n",
    "$$\n",
    "    \\frac{\\partial_k \\sigma_{BS}(T,k)|_{k=0}}{\\partial_k \\sigma_{loc}(T,k)|_{k=0}}\n",
    "    \\underset{T\\to0}{\\to} \\frac{1}{H+3/2}\n",
    "$$"
   ]
  },
  {
   "cell_type": "code",
   "execution_count": null,
   "id": "87dd7481",
   "metadata": {},
   "outputs": [],
   "source": [
    "plt.close()\n",
    "fig, ax = plt.subplots(figsize=(8, 6))\n",
    "for H in list_H:\n",
    "    ax.plot(\n",
    "        list_maturity,\n",
    "        atm_impvol_skews[f\"H={H}\"] / atm_lv_skews[f\"H={H}\"],\n",
    "        markers[H],\n",
    "        label=f\"$H={H}$\",\n",
    "        color=colors[H],\n",
    "    )\n",
    "    ax.plot(tab_t, 1.0 / (H + 1.5) * np.ones_like(tab_t), \"--\", color=colors[H])\n",
    "ax.set_xlabel(\"$T$\")\n",
    "ax.legend(ncol=1)\n",
    "ax.set_ylim(0.40, 0.65)\n",
    "plt.show()"
   ]
  },
  {
   "cell_type": "markdown",
   "id": "1cf7edb5",
   "metadata": {},
   "source": [
    "We compare the implied volatility $\\sigma_{BS}(T,k)$ and the harmonic mean\n",
    "$H(T,k)$ of the local volatility $\\sigma_{loc}(T,k)$ defined as \n",
    "\n",
    "$$\n",
    "    H(T,k) = \\left(\\frac{1}{k}\\int_0^k \\frac{dy}{\\sigma_{loc}(T,y)}\\right)^{-1}\n",
    "$$"
   ]
  },
  {
   "cell_type": "code",
   "execution_count": null,
   "id": "08e6a63e",
   "metadata": {},
   "outputs": [],
   "source": [
    "H = 0.3\n",
    "T = 0.45\n",
    "\n",
    "tab_t = np.linspace(0.0, T, n_disc + 1)\n",
    "paths = rbergomi_models[f\"H={H}\"].simulate(\n",
    "    tab_t=tab_t, n_mc=n_mc, n_loop=n_loop, seed=seed, conditioning=True\n",
    ")\n",
    "\n",
    "\n",
    "def func_locvol(y):\n",
    "    return rbergomi_models[f\"H={H}\"].local_vol_from_paths(\n",
    "        k=y,\n",
    "        v_t=paths[\"v\"][-1, :],\n",
    "        int_v_dt=paths[\"int_v_dt\"],\n",
    "        int_sqrt_v_dw=paths[\"int_sqrt_v_dw\"],\n",
    "    )"
   ]
  },
  {
   "cell_type": "code",
   "execution_count": null,
   "id": "7d6b018b",
   "metadata": {},
   "outputs": [],
   "source": [
    "def harmonic_mean_loc_vol(k):\n",
    "    if k == 0.0:\n",
    "        return func_locvol(0.0)[0]\n",
    "    return 1.0 / (integrate.quad(lambda y: 1.0 / func_locvol(y)[0], 0, k)[0] / k)"
   ]
  },
  {
   "cell_type": "code",
   "execution_count": null,
   "id": "edbbcd9b",
   "metadata": {},
   "outputs": [],
   "source": [
    "tab_k = np.linspace(-0.2, 0.05, 11)"
   ]
  },
  {
   "cell_type": "code",
   "execution_count": null,
   "id": "378aac19",
   "metadata": {},
   "outputs": [],
   "source": [
    "harmo_means = np.array([harmonic_mean_loc_vol(k) for k in tab_k])"
   ]
  },
  {
   "cell_type": "code",
   "execution_count": null,
   "id": "29d29a3c",
   "metadata": {},
   "outputs": [],
   "source": [
    "impvol = rbergomi_models[f\"H={H}\"].implied_vol_from_paths(\n",
    "    k=tab_k,\n",
    "    T=T,\n",
    "    int_v_dt=paths[\"int_v_dt\"],\n",
    "    int_sqrt_v_dw=paths[\"int_sqrt_v_dw\"],\n",
    "    conditioning=True,\n",
    ")"
   ]
  },
  {
   "cell_type": "code",
   "execution_count": null,
   "id": "95b88bf7",
   "metadata": {},
   "outputs": [],
   "source": [
    "fig, ax = plt.subplots(1, 2, figsize=(2 * 8, 6))\n",
    "ax[0].plot(tab_k, impvol, \".-\", label=r\"$\\sigma_{BS}(T,k)$\", color=colors[H])\n",
    "ax[0].plot(tab_k, harmo_means, \"x--\", label=\"$H(T,k)$\", color=colors[H])\n",
    "ax[0].legend()\n",
    "ax[1].plot(\n",
    "    tab_k,\n",
    "    impvol / harmo_means,\n",
    "    \".\",\n",
    "    label=r\"$\\sigma_{BS}(T,k) / H(T,k)$\",\n",
    "    color=colors[H],\n",
    ")\n",
    "ax[1].set_xlabel(\"$k$\")\n",
    "ax[1].legend()\n",
    "plt.show()"
   ]
  },
  {
   "cell_type": "markdown",
   "id": "cc686189",
   "metadata": {},
   "source": [
    "Comparison of $\\sigma_{loc}(T,y \\, T^{1/2-H})$ and $\\sigma(\\widehat{h_1^y})$ for \n",
    "$T \\in \\{0.05, 0.2, 0.35, 0.5\\}$.\n",
    "\n",
    "The rate function minimizing path $\\widehat{h}_1^y$ is evaluated using the Ritz \n",
    "projection method with $N=8$ Fourier basis functions. We refer to section \n",
    "4.2. for details."
   ]
  },
  {
   "cell_type": "code",
   "execution_count": null,
   "id": "40904e18",
   "metadata": {},
   "outputs": [],
   "source": [
    "H = 0.3\n",
    "print(\"H =\", H, \"\\n\")\n",
    "\n",
    "n_mc = 1 * 10**5\n",
    "n_disc = 200\n",
    "n_loop = 1\n",
    "y = np.linspace(-0.5, 0.5, 11)\n",
    "list_T = [0.05, 0.2, 0.35, 0.5]\n",
    "lv_y = np.zeros((len(list_T), y.shape[0]))\n",
    "\n",
    "for i, T in enumerate(list_T):\n",
    "    print(\"T =\", T)\n",
    "    lv_y[i, :] = rbergomi_models[f\"H={H}\"].local_vol(\n",
    "        k=y * T ** (0.5 - H), T=T, n_mc=n_mc, n_disc=n_disc, n_loop=n_loop, seed=seed\n",
    "    )"
   ]
  },
  {
   "cell_type": "code",
   "execution_count": null,
   "id": "15f5ca51",
   "metadata": {},
   "outputs": [],
   "source": [
    "n_trunc = 8\n",
    "sig_h = rbergomi_models[f\"H={H}\"].sigma_path_rate_function(y=y, n_trunc=n_trunc)"
   ]
  },
  {
   "cell_type": "code",
   "execution_count": null,
   "id": "142cdb3b",
   "metadata": {},
   "outputs": [],
   "source": [
    "fig, ax = plt.subplots()\n",
    "for i, T in enumerate(list_T):\n",
    "    ax.plot(y, lv_y[i, :], \".--\", label=f\"T={T} \" + r\"$\\sigma_{loc}(T,yT^{1/2-H})$\")\n",
    "ax.plot(y, sig_h, \"x--k\", label=r\"$\\sigma(\\widehat{h}_1^y)$\")\n",
    "ax.set_xlabel(\"$y$\")\n",
    "ax.set_title(f\"$H={H}$\")\n",
    "ax.legend()\n",
    "plt.show()"
   ]
  },
  {
   "cell_type": "code",
   "execution_count": null,
   "id": "4924a081",
   "metadata": {},
   "outputs": [],
   "source": []
  }
 ],
 "metadata": {
  "kernelspec": {
   "display_name": ".venv",
   "language": "python",
   "name": "python3"
  },
  "language_info": {
   "codemirror_mode": {
    "name": "ipython",
    "version": 3
   },
   "file_extension": ".py",
   "mimetype": "text/x-python",
   "name": "python",
   "nbconvert_exporter": "python",
   "pygments_lexer": "ipython3",
   "version": "3.11.11"
  }
 },
 "nbformat": 4,
 "nbformat_minor": 5
}
