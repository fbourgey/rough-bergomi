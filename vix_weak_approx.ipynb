{
 "cells": [
  {
   "cell_type": "markdown",
   "id": "2fbd4fad",
   "metadata": {},
   "source": [
    "<font color=\"orange\">Weak approximations and VIX option price\n",
    "expansions in forward variance curve models</font>"
   ]
  },
  {
   "cell_type": "markdown",
   "id": "94fa8dac",
   "metadata": {},
   "source": [
    "Convention is different. The parameter $\\eta$ in the paper must be \n",
    "replaced with $\\eta \\sqrt{2H}$"
   ]
  },
  {
   "cell_type": "markdown",
   "id": "8f5cba05",
   "metadata": {},
   "source": [
    "Consider the SDE for the forward variance curve model\n",
    "$$\n",
    "    d\\xi_t^u = \\xi_t^u K(u,t) \\, dW_t\n",
    "$$\n",
    "or equivalently, for all $u \\geq T$,\n",
    "$$\n",
    "    \\xi_T^u = \\xi_0^u \\exp \\left\\{ Z_T^u \\right\\}\n",
    "$$\n",
    "where \n",
    "$$\n",
    "    Z_T^u = -\\frac{1}{2}\\int_0^T K(u,t)^2 dt + \\int_0^T K(u,t) \\, dW_t.\n",
    "$$\n",
    "\n",
    "We approximte the \n",
    "\n",
    "$$\n",
    "    \\text{VIX}_T^2 \n",
    "    = \\frac{1}{\\Delta} \\int_{T}^{T+\\Delta} \\xi_T^u du\n",
    "    = \\frac{1}{\\Delta} \\int_{T}^{T+\\Delta} \\xi_0^u \\exp \\{Z_T^u\\} du\n",
    "$$\n",
    "\n",
    "with a lognormal proxy\n",
    "\n",
    "$$\n",
    "    \\text{VIX}_{T,P}^2 = \\mathbb{E}[\\text{VIX}_T^2]\n",
    "    \\exp \\left\\{\\frac{1}{\\Delta} \\int_{T}^{T+\\Delta} \\xi_0^u Z_T^u \n",
    "    \\frac{du}{\\mathbb{E}[\\text{VIX}_T^2]}\\right\\}\n",
    "$$\n",
    "\n",
    "where fair price of a VIX squared futures contract is given by\n",
    "\n",
    "$$\n",
    "    \\mathbb{E}[\\text{VIX}_T^2] = \\frac{1}{\\Delta} \n",
    "    \\int_{T}^{T+\\Delta} \\xi_0^u du.\n",
    "$$\n",
    "\n",
    "We have that $\\log \\text{VIX}_{T,P}^2$ is normal with mean\n",
    "\n",
    "$$\n",
    "    \\mu_{P} = \n",
    "    \\log \\mathbb{E}[\\text{VIX}_T^2] -\n",
    "    \\frac12 \\int_0^T \\left(\\frac1\\Delta \n",
    "    \\int_{T}^{T+\\Delta} \\xi_0^u K(u,t)^2 \\frac{du}{\\mathbb{E}[\\text{VIX}_T^2]} \\right) \\, dt\n",
    "$$\n",
    "\n",
    "and variance\n",
    "\n",
    "$$\n",
    "    \\sigma_{P}^2 = \n",
    "    \\int_0^T \\left(\\frac1\\Delta \n",
    "    \\int_{T}^{T+\\Delta} \\xi_0^u K(u,t) \\frac{du}{\\mathbb{E}[\\text{VIX}_T^2]} \\right)^2 \\, dt\n",
    "$$\n",
    "\n",
    "We approximate the VIX option price by\n",
    "$$\n",
    "    \\mathbb{E}[\\varphi(\\text{VIX}_{T}^2)] \\approx\n",
    "    \\mathbb{E}[\\varphi(\\text{VIX}_{T,P}^2)]\n",
    "    + \\sum_{i=1}^{3} \\gamma_i \\, \\mathbb{E}[\\varphi(\\text{VIX}_{T,P}^2 \\, e^{\\varepsilon})]|_{\\varepsilon=0}\n",
    "$$\n",
    "\n",
    "The zero-th order approximation corresponds to a Black-Scholes price\n",
    "while the other terms are corrections based on Black-Scholes Greeks (delta, gamma, speed)."
   ]
  },
  {
   "cell_type": "code",
   "execution_count": null,
   "id": "a22c073a",
   "metadata": {},
   "outputs": [],
   "source": [
    "%load_ext autoreload\n",
    "%autoreload 2\n",
    "%config InlineBackend.figure_format = 'retina'"
   ]
  },
  {
   "cell_type": "code",
   "execution_count": null,
   "id": "159d9191",
   "metadata": {},
   "outputs": [],
   "source": [
    "import matplotlib.pyplot as plt\n",
    "from rbergomi import RoughBergomi\n",
    "import matplotlib as mpl\n",
    "import numpy as np\n",
    "import seaborn as sns\n",
    "\n",
    "sns.set_theme(\"talk\")\n",
    "mpl.rcParams[\"figure.figsize\"] = (8, 6)\n",
    "COLORS = [\"blue\", \"green\", \"red\"]\n",
    "SEED = 1234"
   ]
  },
  {
   "cell_type": "code",
   "execution_count": null,
   "id": "9a9cd2e9",
   "metadata": {},
   "outputs": [],
   "source": [
    "params = {\n",
    "    \"s0\": 1.0,\n",
    "    \"xi0\": lambda u: np.ones_like(u) * 0.235**2,\n",
    "    \"rho\": -0.7,\n",
    "    \"H\": 0.1,\n",
    "    \"eta\": 1.0,\n",
    "}\n",
    "\n",
    "rbergomi = RoughBergomi(**params)"
   ]
  },
  {
   "cell_type": "code",
   "execution_count": null,
   "id": "268c726f",
   "metadata": {},
   "outputs": [],
   "source": [
    "n_disc = 300\n",
    "n_mc = 2 * 10**5\n",
    "\n",
    "mats = {\"1M\": 1.0 / 12.0, \"3M\": 3.0 / 12.0, \"6M\": 6.0 / 12.0}"
   ]
  },
  {
   "cell_type": "markdown",
   "id": "42ce5915",
   "metadata": {},
   "source": [
    "## Price of VIX futures as function of the vol-of-variance $\\eta$"
   ]
  },
  {
   "cell_type": "code",
   "execution_count": null,
   "id": "7d9094b3",
   "metadata": {},
   "outputs": [],
   "source": [
    "tab_eta = np.linspace(0.1, 1.5, 10) * np.sqrt(2.0 * params[\"H\"])\n",
    "\n",
    "# Monte Carlo price\n",
    "vix_fut_eta = {}\n",
    "for month in mats:\n",
    "    print(month)\n",
    "    price = np.zeros_like(tab_eta)\n",
    "    for i, eta in enumerate(tab_eta):\n",
    "        rbergomi.eta = eta\n",
    "        price[i] = rbergomi.price_vix_fut(\n",
    "            T=mats[month], n_disc=n_disc, n_mc=n_mc, seed=SEED\n",
    "        )\n",
    "    vix_fut_eta[month] = price"
   ]
  },
  {
   "cell_type": "code",
   "execution_count": null,
   "id": "e0ffb280",
   "metadata": {},
   "outputs": [],
   "source": [
    "# Approx price\n",
    "vix_fut_eta_approx = {}\n",
    "for month in mats:\n",
    "    price = np.zeros_like(tab_eta)\n",
    "    for i, eta in enumerate(tab_eta):\n",
    "        rbergomi.eta = eta\n",
    "        price[i] = rbergomi.price_vix_fut_approx(T=mats[month], order=3)\n",
    "    vix_fut_eta_approx[month] = price"
   ]
  },
  {
   "cell_type": "code",
   "execution_count": null,
   "id": "4e8ffa3e",
   "metadata": {},
   "outputs": [],
   "source": [
    "fig, ax = plt.subplots()\n",
    "for i, T in enumerate(mats):\n",
    "    ax.plot(\n",
    "        tab_eta, 100.0 * vix_fut_eta[T], \".\", color=COLORS[i], label=f\"MC ({month})\"\n",
    "    )\n",
    "    ax.plot(\n",
    "        tab_eta,\n",
    "        100.0 * vix_fut_eta_approx[T],\n",
    "        \"x\",\n",
    "        color=COLORS[i],\n",
    "        label=f\"approx ({month})\",\n",
    "    )\n",
    "ax.set_xlabel(\"$\\\\eta$\")\n",
    "ax.set_ylabel(\"VIX futures price in %\")\n",
    "ax.legend(ncol=2)\n",
    "plt.show()"
   ]
  },
  {
   "cell_type": "markdown",
   "id": "43fb5a59",
   "metadata": {},
   "source": [
    "## Price of VIX futures wrt the maturity $T$"
   ]
  },
  {
   "cell_type": "code",
   "execution_count": null,
   "id": "08ea526a",
   "metadata": {},
   "outputs": [],
   "source": [
    "params = {\n",
    "    \"s0\": 1.0,\n",
    "    \"xi0\": lambda u: np.ones_like(u) * 0.235**2,\n",
    "    \"rho\": -0.7,\n",
    "    \"H\": 0.1,\n",
    "    \"eta\": 1.0,\n",
    "}\n",
    "\n",
    "rbergomi = RoughBergomi(**params)\n",
    "\n",
    "tab_t = np.linspace(1.0 / 365.0, 1.0, 10)\n",
    "\n",
    "vix_fut_t = np.array(\n",
    "    [rbergomi.price_vix_fut(T=T, n_mc=n_mc, n_disc=n_disc, rule=\"trap\") for T in tab_t]\n",
    ")"
   ]
  },
  {
   "cell_type": "code",
   "execution_count": null,
   "id": "0ce9eeaa",
   "metadata": {},
   "outputs": [],
   "source": [
    "vix_fut_t_approx = np.array(\n",
    "    [rbergomi.price_vix_fut_approx(T=T, order=3) for T in tab_t]\n",
    ")"
   ]
  },
  {
   "cell_type": "code",
   "execution_count": null,
   "id": "6c8154b6",
   "metadata": {},
   "outputs": [],
   "source": [
    "fig, ax = plt.subplots()\n",
    "ax.plot(tab_t, 100.0 * vix_fut_t, \".\", label=\"MC\")\n",
    "ax.plot(tab_t, 100.0 * vix_fut_t_approx, \"x\", label=\"approx\")\n",
    "ax.set_xlabel(\"$T$\")\n",
    "ax.set_ylabel(\"VIX futures price in %\")\n",
    "ax.legend()\n",
    "plt.show()"
   ]
  },
  {
   "cell_type": "markdown",
   "id": "c63f4733",
   "metadata": {},
   "source": [
    "## Price of VIX ATM call options as function of maturity $T$"
   ]
  },
  {
   "cell_type": "code",
   "execution_count": null,
   "id": "89d3bcda",
   "metadata": {},
   "outputs": [],
   "source": [
    "vix_price_atm = np.array(\n",
    "    [\n",
    "        rbergomi.price_vix(k=0.0, T=T, n_mc=n_mc, n_disc=n_disc, rule=\"trap\", opttype=1)\n",
    "        for T in tab_t\n",
    "    ]\n",
    ")"
   ]
  },
  {
   "cell_type": "code",
   "execution_count": null,
   "id": "b5f6bdd3",
   "metadata": {},
   "outputs": [],
   "source": [
    "vix_price_atm_approx = np.array(\n",
    "    [rbergomi.price_vix_approx(k=0.0, T=T, order=3) for T in tab_t]\n",
    ")"
   ]
  },
  {
   "cell_type": "code",
   "execution_count": null,
   "id": "47305540",
   "metadata": {},
   "outputs": [],
   "source": [
    "fig, ax = plt.subplots()\n",
    "ax.plot(tab_t, vix_price_atm, \".\", label=\"VIX ATM call\")\n",
    "ax.plot(tab_t, vix_price_atm_approx, \"x\", label=\"VIX ATM call approx\")\n",
    "ax.set_xlabel(\"$T$\")\n",
    "ax.legend()\n",
    "plt.show()"
   ]
  },
  {
   "cell_type": "markdown",
   "id": "d748133e",
   "metadata": {},
   "source": [
    "## VIX implied volatility wrt the log-moneyness $k = \\log(K/F)$"
   ]
  },
  {
   "cell_type": "code",
   "execution_count": null,
   "id": "e7f1f603",
   "metadata": {},
   "outputs": [],
   "source": [
    "params = {\n",
    "    \"s0\": 1.0,\n",
    "    \"xi0\": lambda u: np.ones_like(u) * 0.235**2,\n",
    "    \"rho\": -0.7,\n",
    "    \"H\": 0.1,\n",
    "    \"eta\": 1.0,\n",
    "}\n",
    "\n",
    "rbergomi = RoughBergomi(**params)\n",
    "\n",
    "k = np.linspace(-0.1, 0.5, 11)\n",
    "\n",
    "impvol_vix = {\n",
    "    month: rbergomi.implied_vol_vix(k=k, T=T, n_disc=n_disc, n_mc=n_mc, seed=SEED)\n",
    "    for month, T in mats.items()\n",
    "}"
   ]
  },
  {
   "cell_type": "code",
   "execution_count": null,
   "id": "a8d8015b",
   "metadata": {},
   "outputs": [],
   "source": [
    "impvol_vix_approx = {\n",
    "    month: rbergomi.implied_vol_vix_approx(k=k, T=T, order=3)\n",
    "    for month, T in mats.items()\n",
    "}"
   ]
  },
  {
   "cell_type": "code",
   "execution_count": null,
   "id": "65a12ce6",
   "metadata": {},
   "outputs": [],
   "source": [
    "fig, ax = plt.subplots(figsize=(1.2 * 8, 1.2 * 6))\n",
    "for i, month in enumerate(mats.keys()):\n",
    "    ax.plot(k, 100 * impvol_vix[month], \".\", color=COLORS[i], label=f\"MC ({month})\")\n",
    "    ax.plot(\n",
    "        k,\n",
    "        100 * impvol_vix_approx[month],\n",
    "        \"x\",\n",
    "        color=COLORS[i],\n",
    "        label=f\"approx ({month})\",\n",
    "    )\n",
    "ax.set_xlabel(r\"$k=\\log(K/F)$\")\n",
    "ax.set_ylabel(\"VIX implied volatility in %\")\n",
    "ax.legend(ncol=3)\n",
    "plt.show()"
   ]
  },
  {
   "cell_type": "markdown",
   "id": "a5a0507a",
   "metadata": {},
   "source": [
    "## VIX implied volatility wrt the log-moneyness $k = \\log(K/F)$ in the mixed case"
   ]
  },
  {
   "cell_type": "code",
   "execution_count": null,
   "id": "d9143329",
   "metadata": {},
   "outputs": [],
   "source": [
    "params = {\n",
    "    \"s0\": 1.0,\n",
    "    \"xi0\": lambda u: np.ones_like(u) * 0.235**2,\n",
    "    \"rho\": -0.7,\n",
    "    \"H\": 0.1,\n",
    "    \"eta\": 1.0,\n",
    "}\n",
    "\n",
    "rbergomi = RoughBergomi(**params)\n",
    "\n",
    "k = np.linspace(-0.1, 0.5, 11)\n",
    "lbd = 0.3\n",
    "eta_2 = 0.3\n",
    "\n",
    "impvol_vix_mixed = {\n",
    "    month: rbergomi.implied_vol_vix(\n",
    "        lbd=lbd, eta_2=eta_2, k=k, T=T, n_disc=n_disc, n_mc=n_mc, seed=SEED\n",
    "    )\n",
    "    for month, T in mats.items()\n",
    "}"
   ]
  },
  {
   "cell_type": "code",
   "execution_count": null,
   "id": "ee2c3ca1",
   "metadata": {},
   "outputs": [],
   "source": [
    "impvol_vix_mixed_approx = {\n",
    "    month: rbergomi.implied_vol_vix_approx_mixed(\n",
    "        lbd=lbd, eta_2=eta_2, k=k, T=T, order=3, n_quad=80\n",
    "    )\n",
    "    for month, T in mats.items()\n",
    "}"
   ]
  },
  {
   "cell_type": "code",
   "execution_count": null,
   "id": "a6c3c261",
   "metadata": {},
   "outputs": [],
   "source": [
    "fig, ax = plt.subplots(figsize=(1.2 * 8, 1.2 * 6))\n",
    "for i, month in enumerate(mats.keys()):\n",
    "    ax.plot(\n",
    "        k, 100 * impvol_vix_mixed[month], \".\", color=COLORS[i], label=f\"MC ({month})\"\n",
    "    )\n",
    "    ax.plot(\n",
    "        k,\n",
    "        100 * impvol_vix_mixed_approx[month],\n",
    "        \"x\",\n",
    "        color=COLORS[i],\n",
    "        label=f\"approx ({month})\",\n",
    "    )\n",
    "ax.set_xlabel(r\"$k=\\log(K/F)$\")\n",
    "ax.set_ylabel(\"VIX implied volatility in %\")\n",
    "ax.legend(ncol=3)\n",
    "plt.show()"
   ]
  },
  {
   "cell_type": "markdown",
   "id": "d50fbab7",
   "metadata": {},
   "source": [
    "## VIX futures prices wrt T in the mixed case"
   ]
  },
  {
   "cell_type": "code",
   "execution_count": null,
   "id": "d2cb3d92",
   "metadata": {},
   "outputs": [],
   "source": [
    "tab_t = np.linspace(1.0 / 365.0, 1.0, 10)\n",
    "\n",
    "vix_fut_t = np.array(\n",
    "    [\n",
    "        rbergomi.price_vix_fut(\n",
    "            T=T, n_mc=n_mc, n_disc=n_disc, rule=\"trap\", lbd=lbd, eta_2=eta_2\n",
    "        )\n",
    "        for T in tab_t\n",
    "    ]\n",
    ")"
   ]
  },
  {
   "cell_type": "code",
   "execution_count": null,
   "id": "32360c7b",
   "metadata": {},
   "outputs": [],
   "source": [
    "vix_fut_t"
   ]
  },
  {
   "cell_type": "code",
   "execution_count": null,
   "id": "69dfa6b3",
   "metadata": {},
   "outputs": [],
   "source": [
    "vix_fut_t_approx = np.array(\n",
    "    [\n",
    "        rbergomi.price_vix_approx_mixed(\n",
    "            T=T, lbd=lbd, eta_2=eta_2, order=3, opt_payoff=\"fut\", K=0.0, n_quad=40\n",
    "        )\n",
    "        for T in tab_t\n",
    "    ]\n",
    ")"
   ]
  },
  {
   "cell_type": "code",
   "execution_count": null,
   "id": "a5328a61",
   "metadata": {},
   "outputs": [],
   "source": [
    "fig, ax = plt.subplots()\n",
    "ax.plot(tab_t, 100.0 * vix_fut_t, \".\", label=\"MC\")\n",
    "ax.plot(tab_t, 100.0 * vix_fut_t_approx, \"x\", label=\"approx\")\n",
    "ax.set_xlabel(\"$T$\")\n",
    "ax.set_ylabel(\"VIX futures price in %\")\n",
    "ax.legend()\n",
    "plt.show()"
   ]
  },
  {
   "cell_type": "code",
   "execution_count": null,
   "id": "77965d07",
   "metadata": {},
   "outputs": [],
   "source": [
    "# finish updating mixed methods. TODO: merge.\n",
    "# first look at mlmc."
   ]
  },
  {
   "cell_type": "code",
   "execution_count": null,
   "id": "5596bbfe",
   "metadata": {},
   "outputs": [],
   "source": []
  }
 ],
 "metadata": {
  "kernelspec": {
   "display_name": ".venv",
   "language": "python",
   "name": "python3"
  },
  "language_info": {
   "codemirror_mode": {
    "name": "ipython",
    "version": 3
   },
   "file_extension": ".py",
   "mimetype": "text/x-python",
   "name": "python",
   "nbconvert_exporter": "python",
   "pygments_lexer": "ipython3",
   "version": "3.11.11"
  }
 },
 "nbformat": 4,
 "nbformat_minor": 5
}
