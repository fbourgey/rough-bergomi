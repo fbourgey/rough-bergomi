{
 "cells": [
  {
   "cell_type": "markdown",
   "id": "3ea5bef8",
   "metadata": {},
   "source": [
    "Let $\\Delta = 30$ days. The VIX is defined as \n",
    "\n",
    "$$\n",
    "    \\text{VIX}_T = \\sqrt{\\frac1\\Delta \\int_{T}^{T+\\Delta} \\xi_T^u \\, du}\n",
    "$$\n",
    "\n",
    "where \n",
    "\n",
    "$$\n",
    "    \\xi_T^u = \\xi_0^u \n",
    "    \\exp\\left\\{ \\eta Y_T^u - \\eta^2(u^{2H} - (u-T)^{2H})\\right\\}\n",
    "$$\n",
    "\n",
    "and \n",
    "\n",
    "$$\n",
    "    Y_t^u = \\sqrt{2H} \\int_0^t (u-s)^{H-1/2} \\, dW_s, \\qquad \\forall u \\geq t.\n",
    "$$\n",
    "\n",
    "We need to compute the covariance matrix of the vector \n",
    "$(Y_T^{u_i})_{0 \\leq i \\leq n}$ where $u_i = T + i \\Delta/n$ for $i = 0, 1, \\ldots, n$.\n",
    "\n",
    "Observe that \n",
    "$\\mathrm{Cov}(Y_T^{u_i}, Y_T^{u_j})=...$"
   ]
  },
  {
   "cell_type": "markdown",
   "id": "69c1b924",
   "metadata": {},
   "source": []
  }
 ],
 "metadata": {
  "language_info": {
   "name": "python"
  }
 },
 "nbformat": 4,
 "nbformat_minor": 5
}
