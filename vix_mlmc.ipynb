{
 "cells": [
  {
   "cell_type": "markdown",
   "id": "b466cb66",
   "metadata": {},
   "source": [
    "<font color=\"orange\">Multilevel Monte Carlo simulation for VIX options in the rough\n",
    "Bergomi model</font>"
   ]
  },
  {
   "cell_type": "markdown",
   "id": "f4342764",
   "metadata": {},
   "source": [
    "Convention is different here: the parameter $\\eta$ in the paper must be \n",
    "replaced with $\\eta \\sqrt{2H}$"
   ]
  },
  {
   "cell_type": "markdown",
   "id": "3ea5bef8",
   "metadata": {},
   "source": [
    "Let $\\Delta = 30$ days. The VIX is defined as \n",
    "\n",
    "$$\n",
    "    \\text{VIX}_T = \\sqrt{\\frac1\\Delta \\int_{T}^{T+\\Delta} \\xi_T^u \\, du}\n",
    "$$\n",
    "\n",
    "where \n",
    "\n",
    "$$\n",
    "    \\xi_T^u = \\xi_0^u \n",
    "    \\exp\\left\\{ \\eta Y_T^u - \\eta^2(u^{2H} - (u-T)^{2H})\\right\\}\n",
    "$$\n",
    "\n",
    "and \n",
    "\n",
    "$$\n",
    "    Y_t^u = \\sqrt{2H} \\int_0^t (u-s)^{H-1/2} \\, dW_s, \\qquad \\forall u \\geq t.\n",
    "$$\n",
    "\n",
    "We need to compute the covariance matrix of the vector \n",
    "$(Y_T^{u_i})_{0 \\leq i \\leq n}$ where $u_i = T + i \\Delta/n$ for $i = 0, 1, \\ldots, n$."
   ]
  },
  {
   "cell_type": "code",
   "execution_count": 1,
   "id": "69c1b924",
   "metadata": {},
   "outputs": [],
   "source": [
    "%load_ext autoreload\n",
    "%autoreload 2\n",
    "%config InlineBackend.figure_format = 'retina'"
   ]
  },
  {
   "cell_type": "code",
   "execution_count": 2,
   "id": "bdd08487",
   "metadata": {},
   "outputs": [],
   "source": [
    "import matplotlib.pyplot as plt\n",
    "from rbergomi import RoughBergomi\n",
    "import matplotlib as mpl\n",
    "import numpy as np\n",
    "import seaborn as sns\n",
    "\n",
    "sns.set_theme(\"talk\")\n",
    "mpl.rcParams[\"figure.figsize\"] = (8, 6)"
   ]
  },
  {
   "cell_type": "markdown",
   "id": "e1a373f0",
   "metadata": {},
   "source": [
    "For $n \\in \\mathbb{N}^*$, consider the uniform grid $u_i = T + i \\Delta/n$ for $i = 0, 1, \\ldots, n$.\n",
    "\n",
    "We are interested in the right-point rectangle scheme\n",
    "\n",
    "$$\n",
    "    \\text{VIX}_T^{2,\\mathcal{R}_n}\n",
    "    = \\frac{1}{n} \\sum_{i=1}^{n} \\xi_T^{u_i}\n",
    "$$\n",
    "\n",
    "and the trapezoidal scheme\n",
    "\n",
    "$$\n",
    "    \\text{VIX}_T^{2,\\mathcal{T}_n}\n",
    "    = \\frac{1}{2n} \\sum_{i=1}^{n} \n",
    "    \\left(\\xi_T^{u_{i-1}} + \\xi_T^{u_i}\\right)\n",
    "$$\n",
    "\n",
    "Observe that $\\{\\log \\xi_{T}^{u_i}\\}_{0 \\leq i \\leq n}$\n",
    "forms an $(n+1)$-dimensional Gaussian vector with mean vector \n",
    "$\\mu = \\{\\mu_i\\}_{0 \\leq i \\leq n}$ and covariance matrix $C = \\{C_{i,j}\\}_{0 \\leq i,j \\leq n}$\n",
    "defined as\n",
    "\n",
    "$$\n",
    "    \\mu_i = \\log \\xi_0^{u_i} - \\frac{\\eta^2}{2} (u_i^{2H} - (u_i-T)^{2H})\n",
    "$$\n",
    "\n",
    "and \n",
    "\n",
    "$$\n",
    "    C_{i,j} = 2 H \\int_0^T (u_i-s)^{H-1/2} (u_j-s)^{H-1/2} \\, ds\n",
    "$$\n",
    "\n",
    "The covariance matrix term $C_{i,j}$ can be computed using the Gaussian \n",
    "hypergeometric function.\n",
    "\n",
    "A Monte Carlo estimator for the price of a VIX option with payoff $\\varphi$ is\n",
    "\n",
    "$$\n",
    "    \\mathbb{E}[\\varphi(\\text{VIX}_T^{2})] \n",
    "    \\approx \\frac{1}{M} \\sum_{m=1}^{M} \n",
    "    \\varphi \\left(\\frac{1}{n} \\sum_{i=1}^{n} \\exp\\{X_T^{u_i,m}\\}\\right)\n",
    "$$\n",
    "\n",
    "where $X_T^u = \\log \\xi_T^u$. \n",
    "\n",
    "A natural control variate is the lognormal random variable\n",
    "$\\exp\\left\\{\\frac{1}{n} \\sum_{i=1}^{n}X_T^{u_i} \\right\\}$. Observe that\n",
    "$\\frac{1}{n} \\sum_{i=1}^{n}X_T^{u_i}$ is normal with mean and standard deviation\n",
    "\n",
    "$$\n",
    "    \\bar{\\mu}_n = \\frac{1}{n} \\sum_{i=1}^{n} \\mu_i,\n",
    "    \\qquad\n",
    "    \\bar{\\sigma}_n = \\sqrt{\\frac{1}{n^2} \\sum_{i,j=1}^{n} C_{i,j}}\n",
    "$$\n",
    "\n",
    "\n"
   ]
  },
  {
   "cell_type": "markdown",
   "id": "f935a673",
   "metadata": {},
   "source": [
    "# Strong error"
   ]
  },
  {
   "cell_type": "markdown",
   "id": "dd2a77c1",
   "metadata": {},
   "source": [
    "# Weak error"
   ]
  },
  {
   "cell_type": "markdown",
   "id": "db8b6783",
   "metadata": {},
   "source": [
    "# Multilevel Monte Carlo"
   ]
  },
  {
   "cell_type": "markdown",
   "id": "f048d36d",
   "metadata": {},
   "source": []
  }
 ],
 "metadata": {
  "kernelspec": {
   "display_name": ".venv",
   "language": "python",
   "name": "python3"
  },
  "language_info": {
   "codemirror_mode": {
    "name": "ipython",
    "version": 3
   },
   "file_extension": ".py",
   "mimetype": "text/x-python",
   "name": "python",
   "nbconvert_exporter": "python",
   "pygments_lexer": "ipython3",
   "version": "3.11.11"
  }
 },
 "nbformat": 4,
 "nbformat_minor": 5
}
