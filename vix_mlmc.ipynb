{
 "cells": [
  {
   "cell_type": "markdown",
   "id": "b466cb66",
   "metadata": {},
   "source": [
    "<font color=\"orange\">Multilevel Monte Carlo simulation for VIX options in the rough\n",
    "Bergomi model</font>"
   ]
  },
  {
   "cell_type": "markdown",
   "id": "f4342764",
   "metadata": {},
   "source": [
    "Convention is different. The parameter $\\eta$ in the paper must be \n",
    "replaced with $\\eta \\sqrt{2H}$"
   ]
  },
  {
   "cell_type": "markdown",
   "id": "3ea5bef8",
   "metadata": {},
   "source": [
    "Let $\\Delta = 30$ days. The VIX is defined as \n",
    "\n",
    "$$\n",
    "    \\text{VIX}_T = \\sqrt{\\frac1\\Delta \\int_{T}^{T+\\Delta} \\xi_T^u \\, du}\n",
    "$$\n",
    "\n",
    "where, for all $u \\geq T$,\n",
    "\n",
    "$$\n",
    "    \\xi_T^u = \\xi_0^u \n",
    "    \\exp\\left\\{ \\eta Y_T^u - \\eta^2(u^{2H} - (u-T)^{2H})\\right\\}\n",
    "$$\n",
    "\n",
    "and\n",
    "\n",
    "$$\n",
    "    Y_T^u = \\sqrt{2H} \\int_0^T (u-s)^{H-1/2} \\, dW_s\n",
    "$$\n",
    "\n",
    "We need to compute the covariance matrix of the vector \n",
    "$(Y_T^{u_i})_{0 \\leq i \\leq n}$ where $u_i = T + i \\Delta/n$ for $i = 0, 1, \\ldots, n$."
   ]
  },
  {
   "cell_type": "code",
   "execution_count": 1,
   "id": "69c1b924",
   "metadata": {},
   "outputs": [],
   "source": [
    "%load_ext autoreload\n",
    "%autoreload 2\n",
    "%config InlineBackend.figure_format = 'retina'"
   ]
  },
  {
   "cell_type": "code",
   "execution_count": 86,
   "id": "bdd08487",
   "metadata": {},
   "outputs": [],
   "source": [
    "import matplotlib.pyplot as plt\n",
    "from rbergomi import RoughBergomi\n",
    "import matplotlib as mpl\n",
    "import numpy as np\n",
    "import seaborn as sns\n",
    "from tqdm import tqdm\n",
    "from utils import linear_regression\n",
    "\n",
    "sns.set_theme(\"talk\")\n",
    "mpl.rcParams[\"figure.figsize\"] = (8, 6)\n",
    "COLORS = [\"blue\", \"green\", \"red\", \"orange\"]\n",
    "SEED = 1234"
   ]
  },
  {
   "cell_type": "markdown",
   "id": "e1a373f0",
   "metadata": {},
   "source": [
    "For $n \\in \\mathbb{N}^*$ timesteps, \n",
    "consider the uniform grid $u_i = T + i \\Delta/n$ for $i = 0, 1, \\ldots, n$.\n",
    "\n",
    "We are interested in the right-point rectangle scheme\n",
    "\n",
    "$$\n",
    "    \\text{VIX}_T^{2,\\mathcal{R}_n}\n",
    "    = \\frac{1}{n} \\sum_{i=1}^{n} \\xi_T^{u_i}\n",
    "$$\n",
    "\n",
    "and the trapezoidal scheme\n",
    "\n",
    "$$\n",
    "    \\text{VIX}_T^{2,\\mathcal{T}_n}\n",
    "    = \\frac{1}{2n} \\sum_{i=1}^{n} \n",
    "    \\left(\\xi_T^{u_{i-1}} + \\xi_T^{u_i}\\right)\n",
    "$$\n",
    "\n",
    "Observe that $\\{\\log \\xi_{T}^{u_i}\\}_{0 \\leq i \\leq n}$\n",
    "forms an $(n+1)$-dimensional Gaussian vector with mean vector \n",
    "$\\mu = \\{\\mu_i\\}_{0 \\leq i \\leq n}$ and covariance matrix $C = \\{C_{i,j}\\}_{0 \\leq i,j \\leq n}$\n",
    "defined as\n",
    "\n",
    "$$\n",
    "    \\mu_i = \\log \\xi_0^{u_i} - \\frac{\\eta^2}{2} (u_i^{2H} - (u_i-T)^{2H})\n",
    "$$\n",
    "\n",
    "and \n",
    "\n",
    "$$\n",
    "    C_{i,j} = 2 H \\int_0^T (u_i-s)^{H-1/2} (u_j-s)^{H-1/2} \\, ds\n",
    "$$\n",
    "\n",
    "The covariance matrix term $C_{i,j}$ can be computed using the Gaussian \n",
    "hypergeometric function.\n",
    "\n",
    "A Monte Carlo estimator for the price of a VIX option with payoff $\\varphi$ is\n",
    "\n",
    "$$\n",
    "    \\mathbb{E}[\\varphi(\\text{VIX}_T^{2})] \n",
    "    \\approx \\frac{1}{M} \\sum_{m=1}^{M} \n",
    "    \\varphi \\left(\\frac{1}{n} \\sum_{i=1}^{n} \\exp\\{X_T^{u_i,m}\\}\\right)\n",
    "$$\n",
    "\n",
    "where $X_T^u = \\log \\xi_T^u$. \n",
    "\n",
    "A natural control variate is the lognormal random variable\n",
    "$\\exp\\left\\{\\frac{1}{n} \\sum_{i=1}^{n}X_T^{u_i} \\right\\}$. Observe that\n",
    "$\\frac{1}{n} \\sum_{i=1}^{n}X_T^{u_i}$ is normal with mean and standard deviation\n",
    "\n",
    "$$\n",
    "    \\bar{\\mu}_n = \\frac{1}{n} \\sum_{i=1}^{n} \\mu_i,\n",
    "    \\qquad\n",
    "    \\bar{\\sigma}_n = \\sqrt{\\frac{1}{n^2} \\sum_{i,j=1}^{n} C_{i,j}}\n",
    "$$\n",
    "\n",
    "\n"
   ]
  },
  {
   "cell_type": "code",
   "execution_count": null,
   "id": "71965f4c",
   "metadata": {},
   "outputs": [],
   "source": [
    "params = {\n",
    "    \"s0\": 1.0,\n",
    "    \"xi0\": lambda u: np.ones_like(u) * 0.3**2,\n",
    "    \"rho\": -0.7,\n",
    "    \"H\": 0.4,\n",
    "}\n",
    "params[\"eta\"] = 0.4 * np.sqrt(2.0 * params[\"H\"])\n",
    "\n",
    "rbergomi = RoughBergomi(**params)"
   ]
  },
  {
   "cell_type": "markdown",
   "id": "f935a673",
   "metadata": {},
   "source": [
    "# $L^2$ error for the strong error"
   ]
  },
  {
   "cell_type": "code",
   "execution_count": null,
   "id": "d9b6ba45",
   "metadata": {},
   "outputs": [],
   "source": [
    "T = 3.0 / 12.0\n",
    "n_mc = 1 * 10**5\n",
    "n_disc_ref = 2000"
   ]
  },
  {
   "cell_type": "code",
   "execution_count": null,
   "id": "59c76275",
   "metadata": {},
   "outputs": [],
   "source": [
    "# Simulate xi_{T}^{u_i}, shape is (n_disc+1, n_mc)\n",
    "xi = rbergomi.simulate_vix(T=T, n_mc=n_mc, n_disc=n_disc_ref, seed=SEED, return_xi=True)"
   ]
  },
  {
   "cell_type": "code",
   "execution_count": null,
   "id": "f76e5c1c",
   "metadata": {},
   "outputs": [],
   "source": [
    "vix2_right_ref = np.mean(np.exp(xi[1:, :]), axis=0)\n",
    "vix2_trap_ref = 0.5 * np.mean(np.exp(xi[:-1, :]) + np.exp(xi[1:, :]), axis=0)"
   ]
  },
  {
   "cell_type": "code",
   "execution_count": null,
   "id": "708e5f4d",
   "metadata": {},
   "outputs": [],
   "source": [
    "tab_n_disc = [25, 40, 50, 80, 100, 125, 200, 250]\n",
    "vix2_right = np.zeros((len(tab_n_disc), n_mc))\n",
    "vix2_trap = np.zeros_like(vix2_right)\n",
    "\n",
    "for i in range(len(tab_n_disc)):\n",
    "    idx = np.arange(start=0, stop=n_disc_ref, step=n_disc_ref // tab_n_disc[i])\n",
    "    vix2_right[i, :] = np.mean(np.exp(xi[1:, :][idx, :]), axis=0)\n",
    "    vix2_trap[i, :] = 0.5 * np.mean(\n",
    "        np.exp(xi[:-1, :][idx, :]) + np.exp(xi[1:, :][idx, :]), axis=0\n",
    "    )"
   ]
  },
  {
   "cell_type": "code",
   "execution_count": null,
   "id": "535b27d0",
   "metadata": {},
   "outputs": [],
   "source": [
    "strong_error_right = np.mean((vix2_right_ref - vix2_right) ** 2, axis=1) ** 0.5\n",
    "strong_error_trap = np.mean((vix2_trap_ref - vix2_trap) ** 2, axis=1) ** 0.5"
   ]
  },
  {
   "cell_type": "code",
   "execution_count": null,
   "id": "98c25e2a",
   "metadata": {},
   "outputs": [],
   "source": [
    "fig, ax = plt.subplots(1, 2, figsize=(2 * 8, 6))\n",
    "ax[0].plot(\n",
    "    np.log(tab_n_disc),\n",
    "    np.log(strong_error_right),\n",
    "    \"x\",\n",
    "    color=COLORS[0],\n",
    ")\n",
    "ax[0].plot(\n",
    "    np.log(tab_n_disc),\n",
    "    np.log(rbergomi.limit_strong_error_vix_right(n=tab_n_disc, T=T)),\n",
    "    \".\",\n",
    "    color=COLORS[0],\n",
    "    label=\"asympt\",\n",
    ")\n",
    "ax[0].set_xlabel(\"Number of discretization points\")\n",
    "ax[0].set_ylabel(\"Strong Error (right rule)\")\n",
    "ax[0].legend()\n",
    "ax[1].plot(\n",
    "    np.log(tab_n_disc),\n",
    "    np.log(strong_error_trap),\n",
    "    \"x\",\n",
    "    color=COLORS[1],\n",
    ")\n",
    "ax[1].plot(\n",
    "    np.log(tab_n_disc),\n",
    "    -(1 + rbergomi.H) * np.log(tab_n_disc) - 6,\n",
    "    \"--\",\n",
    "    color=COLORS[1],\n",
    ")\n",
    "ax[1].set_xlabel(\"Number of discretization points\")\n",
    "ax[1].set_ylabel(\"Strong Error (trapezoidal rule)\")\n",
    "plt.show()"
   ]
  },
  {
   "cell_type": "markdown",
   "id": "dd2a77c1",
   "metadata": {},
   "source": [
    "# Weak error"
   ]
  },
  {
   "cell_type": "code",
   "execution_count": null,
   "id": "5dc94d05",
   "metadata": {},
   "outputs": [],
   "source": [
    "call_atm_right_ref = np.maximum(\n",
    "    vix2_right_ref**0.5 - np.mean(vix2_right_ref**0.5), 0.0\n",
    ").mean()\n",
    "call_atm_trap_ref = np.maximum(\n",
    "    vix2_trap_ref**0.5 - np.mean(vix2_trap_ref**0.5), 0.0\n",
    ").mean()"
   ]
  },
  {
   "cell_type": "code",
   "execution_count": null,
   "id": "cb9681db",
   "metadata": {},
   "outputs": [],
   "source": [
    "call_atm_right = np.zeros(len(tab_n_disc))\n",
    "call_atm_trap = np.zeros_like(call_atm_right)\n",
    "\n",
    "for i in range(len(tab_n_disc)):\n",
    "    call_atm_right[i] = np.maximum(\n",
    "        vix2_right[i, :] ** 0.5 - np.mean(vix2_right[i, :] ** 0.5), 0.0\n",
    "    ).mean()\n",
    "    call_atm_trap[i] = np.maximum(\n",
    "        vix2_trap[i, :] ** 0.5 - np.mean(vix2_trap[i, :] ** 0.5), 0.0\n",
    "    ).mean()"
   ]
  },
  {
   "cell_type": "code",
   "execution_count": null,
   "id": "12278b57",
   "metadata": {},
   "outputs": [],
   "source": [
    "weak_error_right = np.abs(call_atm_right_ref - call_atm_right)\n",
    "weak_error_trap = np.abs(call_atm_trap_ref - call_atm_trap)"
   ]
  },
  {
   "cell_type": "code",
   "execution_count": null,
   "id": "ce244666",
   "metadata": {},
   "outputs": [],
   "source": [
    "fig, ax = plt.subplots(1, 2, figsize=(2 * 8, 6))\n",
    "ax[0].plot(\n",
    "    np.log(tab_n_disc),\n",
    "    np.log(weak_error_right),\n",
    "    \"x\",\n",
    "    color=COLORS[0],\n",
    ")\n",
    "ax[0].plot(\n",
    "    np.log(tab_n_disc),\n",
    "    -np.log(tab_n_disc) - 7,\n",
    "    \"--\",\n",
    "    color=COLORS[0],\n",
    "    label=\"slope -1\",\n",
    ")\n",
    "ax[0].plot(\n",
    "    np.log(tab_n_disc),\n",
    "    -2 * np.log(tab_n_disc) - 6,\n",
    "    \":\",\n",
    "    color=COLORS[0],\n",
    "    label=\"slope -2\",\n",
    ")\n",
    "ax[0].legend()\n",
    "ax[0].set_xlabel(\"Number of discretization points\")\n",
    "ax[0].set_ylabel(\"Weak Error (right rule)\")\n",
    "ax[1].plot(\n",
    "    np.log(tab_n_disc),\n",
    "    np.log(weak_error_trap),\n",
    "    \"x\",\n",
    "    color=COLORS[1],\n",
    ")\n",
    "ax[1].plot(\n",
    "    np.log(tab_n_disc),\n",
    "    -(1 + rbergomi.H) * np.log(tab_n_disc) - 7,\n",
    "    \"--\",\n",
    "    color=COLORS[1],\n",
    "    label=\"slope -(1+H)\",\n",
    ")\n",
    "ax[1].plot(\n",
    "    np.log(tab_n_disc),\n",
    "    -2 * np.log(tab_n_disc) - 6,\n",
    "    \":\",\n",
    "    color=COLORS[1],\n",
    "    label=\"slope -2\",\n",
    ")\n",
    "ax[1].legend()\n",
    "ax[1].set_xlabel(\"Number of discretization points\")\n",
    "ax[1].set_ylabel(\"Weak Error (trapezoidal rule)\")\n",
    "plt.show()"
   ]
  },
  {
   "cell_type": "markdown",
   "id": "db8b6783",
   "metadata": {},
   "source": [
    "# Multilevel Monte Carlo"
   ]
  },
  {
   "cell_type": "markdown",
   "id": "923a9e26",
   "metadata": {},
   "source": [
    "We price an ATM VIX call option."
   ]
  },
  {
   "cell_type": "code",
   "execution_count": 3,
   "id": "328915e8",
   "metadata": {},
   "outputs": [],
   "source": [
    "params = {\n",
    "    \"s0\": 1.0,\n",
    "    \"xi0\": lambda u: np.ones_like(u) * 0.235**2,\n",
    "    \"rho\": -0.7,\n",
    "    \"H\": 0.1,\n",
    "    \"eta\": 0.3,\n",
    "}\n",
    "\n",
    "rbergomi = RoughBergomi(**params)"
   ]
  },
  {
   "cell_type": "code",
   "execution_count": 15,
   "id": "22a92425",
   "metadata": {},
   "outputs": [],
   "source": [
    "T = 0.5\n",
    "delta = rbergomi.delta_vix\n",
    "n_mse = 10**3"
   ]
  },
  {
   "cell_type": "code",
   "execution_count": 63,
   "id": "270f0148",
   "metadata": {},
   "outputs": [],
   "source": [
    "n_disc_ref = 500\n",
    "n_mc_ref = 5 * 10**5"
   ]
  },
  {
   "cell_type": "code",
   "execution_count": 64,
   "id": "81b691e3",
   "metadata": {},
   "outputs": [],
   "source": [
    "vix_atm_call, vix_fut = rbergomi.price_vix(\n",
    "    T=T,\n",
    "    n_mc=n_mc_ref,\n",
    "    n_disc=n_disc_ref,\n",
    "    seed=SEED,\n",
    "    rule=\"trap\",\n",
    "    control_variate=True,\n",
    "    return_opt=\"both\",\n",
    ")"
   ]
  },
  {
   "cell_type": "code",
   "execution_count": 68,
   "id": "8cc5f252",
   "metadata": {},
   "outputs": [
    {
     "name": "stdout",
     "output_type": "stream",
     "text": [
      "[0.00853792]\n",
      "0.23402281155797855\n"
     ]
    }
   ],
   "source": [
    "print(vix_atm_call)\n",
    "print(vix_fut)"
   ]
  },
  {
   "cell_type": "code",
   "execution_count": 34,
   "id": "baa2c4ea",
   "metadata": {},
   "outputs": [
    {
     "name": "stdout",
     "output_type": "stream",
     "text": [
      "[0.5        0.51041667 0.52083333 0.53125    0.54166667 0.55208333\n",
      " 0.5625     0.57291667 0.58333333]\n"
     ]
    }
   ],
   "source": [
    "n0 = 1\n",
    "L = 3\n",
    "n_L = n0 * 2**L\n",
    "\n",
    "tab_x = np.linspace(T, T + delta, n_L + 1)\n",
    "print(tab_x)"
   ]
  },
  {
   "cell_type": "code",
   "execution_count": 36,
   "id": "6b8a47ea",
   "metadata": {},
   "outputs": [
    {
     "name": "stdout",
     "output_type": "stream",
     "text": [
      "Level 0\n",
      "n_l=n0 * 2**level = 1\n",
      "[0.5        0.58333333]\n",
      "Level 1\n",
      "n_l=n0 * 2**level = 2\n",
      "[0.5        0.54166667 0.58333333]\n",
      "Level 2\n",
      "n_l=n0 * 2**level = 4\n",
      "[0.5        0.52083333 0.54166667 0.5625     0.58333333]\n",
      "Level 3\n",
      "n_l=n0 * 2**level = 8\n",
      "[0.5        0.51041667 0.52083333 0.53125    0.54166667 0.55208333\n",
      " 0.5625     0.57291667 0.58333333]\n"
     ]
    }
   ],
   "source": [
    "for level in range(L + 1):\n",
    "    print(\"Level\", level)\n",
    "    print(\"n_l=n0 * 2**level =\", n0 * 2**level)\n",
    "    print(tab_x[:: 2 ** (L - level)])"
   ]
  },
  {
   "cell_type": "code",
   "execution_count": 70,
   "id": "4ec24f04",
   "metadata": {},
   "outputs": [
    {
     "name": "stdout",
     "output_type": "stream",
     "text": [
      "n_mc_eps: 1112\n",
      "n_disc_eps: 34\n"
     ]
    },
    {
     "name": "stderr",
     "output_type": "stream",
     "text": [
      "100%|██████████| 1000/1000 [00:02<00:00, 373.12it/s]\n"
     ]
    },
    {
     "name": "stdout",
     "output_type": "stream",
     "text": [
      "n_mc_eps: 1112\n",
      "n_disc_eps: 34\n"
     ]
    },
    {
     "name": "stderr",
     "output_type": "stream",
     "text": [
      "100%|██████████| 1000/1000 [00:02<00:00, 388.10it/s]\n"
     ]
    },
    {
     "name": "stdout",
     "output_type": "stream",
     "text": [
      "n_mc_eps: 444\n",
      "n_disc_eps: 22\n"
     ]
    },
    {
     "name": "stderr",
     "output_type": "stream",
     "text": [
      "100%|██████████| 1000/1000 [00:01<00:00, 959.26it/s]\n"
     ]
    },
    {
     "name": "stdout",
     "output_type": "stream",
     "text": [
      "n_mc_eps: 444\n",
      "n_disc_eps: 22\n"
     ]
    },
    {
     "name": "stderr",
     "output_type": "stream",
     "text": [
      "100%|██████████| 1000/1000 [00:01<00:00, 982.70it/s]\n"
     ]
    },
    {
     "name": "stdout",
     "output_type": "stream",
     "text": [
      "n_mc_eps: 237\n",
      "n_disc_eps: 16\n"
     ]
    },
    {
     "name": "stderr",
     "output_type": "stream",
     "text": [
      "100%|██████████| 1000/1000 [00:00<00:00, 1841.71it/s]\n"
     ]
    },
    {
     "name": "stdout",
     "output_type": "stream",
     "text": [
      "n_mc_eps: 237\n",
      "n_disc_eps: 16\n"
     ]
    },
    {
     "name": "stderr",
     "output_type": "stream",
     "text": [
      "100%|██████████| 1000/1000 [00:00<00:00, 1714.54it/s]\n"
     ]
    },
    {
     "name": "stdout",
     "output_type": "stream",
     "text": [
      "n_mc_eps: 147\n",
      "n_disc_eps: 13\n"
     ]
    },
    {
     "name": "stderr",
     "output_type": "stream",
     "text": [
      "100%|██████████| 1000/1000 [00:00<00:00, 2588.65it/s]\n"
     ]
    },
    {
     "name": "stdout",
     "output_type": "stream",
     "text": [
      "n_mc_eps: 147\n",
      "n_disc_eps: 13\n"
     ]
    },
    {
     "name": "stderr",
     "output_type": "stream",
     "text": [
      "100%|██████████| 1000/1000 [00:00<00:00, 2548.44it/s]\n"
     ]
    },
    {
     "name": "stdout",
     "output_type": "stream",
     "text": [
      "n_mc_eps: 100\n",
      "n_disc_eps: 10\n"
     ]
    },
    {
     "name": "stderr",
     "output_type": "stream",
     "text": [
      "100%|██████████| 1000/1000 [00:00<00:00, 3287.99it/s]\n"
     ]
    },
    {
     "name": "stdout",
     "output_type": "stream",
     "text": [
      "n_mc_eps: 100\n",
      "n_disc_eps: 10\n"
     ]
    },
    {
     "name": "stderr",
     "output_type": "stream",
     "text": [
      "100%|██████████| 1000/1000 [00:00<00:00, 2902.45it/s]\n"
     ]
    }
   ],
   "source": [
    "n_eps = 5\n",
    "tab_eps = np.linspace(3 * 10 ** (-2), 10 * 10 ** (-2), n_eps)\n",
    "\n",
    "mse_right_mc = np.zeros(n_eps)\n",
    "cost_right_mc = np.zeros(n_eps)\n",
    "mse_trap_mc = np.zeros(n_eps)\n",
    "cost_trap_mc = np.zeros(n_eps)\n",
    "\n",
    "for i in range(n_eps):\n",
    "    mse_right_mc[i], cost_right_mc[i] = rbergomi.compute_mse_atm_price(\n",
    "        T=T,\n",
    "        n_mse=n_mse,\n",
    "        true_price=vix_atm_call[0],\n",
    "        true_fut=float(vix_fut),\n",
    "        eps=tab_eps[i],\n",
    "        opt=\"mc\",\n",
    "        rule=\"right\",\n",
    "        seed=SEED,\n",
    "    )\n",
    "    mse_trap_mc[i], cost_trap_mc[i] = rbergomi.compute_mse_atm_price(\n",
    "        T=T,\n",
    "        n_mse=n_mse,\n",
    "        true_price=vix_atm_call[0],\n",
    "        true_fut=float(vix_fut),\n",
    "        eps=tab_eps[i],\n",
    "        opt=\"mc\",\n",
    "        rule=\"trap\",\n",
    "        seed=SEED,\n",
    "    )"
   ]
  },
  {
   "cell_type": "code",
   "execution_count": 76,
   "id": "561fd256",
   "metadata": {},
   "outputs": [
    {
     "name": "stdout",
     "output_type": "stream",
     "text": [
      "n_mc_eps: [192  48  12]\n",
      "n_disc_eps: [ 6 12 24]\n"
     ]
    },
    {
     "name": "stderr",
     "output_type": "stream",
     "text": [
      "100%|██████████| 1000/1000 [00:01<00:00, 846.35it/s]\n"
     ]
    },
    {
     "name": "stdout",
     "output_type": "stream",
     "text": [
      "n_mc_eps: [192  44  10]\n",
      "n_disc_eps: [ 6 12 24]\n"
     ]
    },
    {
     "name": "stderr",
     "output_type": "stream",
     "text": [
      "100%|██████████| 1000/1000 [00:01<00:00, 864.05it/s]\n"
     ]
    },
    {
     "name": "stdout",
     "output_type": "stream",
     "text": [
      "n_mc_eps: [265  66  16]\n",
      "n_disc_eps: [ 6 12 24]\n"
     ]
    },
    {
     "name": "stderr",
     "output_type": "stream",
     "text": [
      "100%|██████████| 1000/1000 [00:01<00:00, 858.96it/s]\n"
     ]
    },
    {
     "name": "stdout",
     "output_type": "stream",
     "text": [
      "n_mc_eps: [265  61  14]\n",
      "n_disc_eps: [ 6 12 24]\n"
     ]
    },
    {
     "name": "stderr",
     "output_type": "stream",
     "text": [
      "100%|██████████| 1000/1000 [00:01<00:00, 814.64it/s]\n"
     ]
    },
    {
     "name": "stdout",
     "output_type": "stream",
     "text": [
      "n_mc_eps: [390  97  24]\n",
      "n_disc_eps: [ 6 12 24]\n"
     ]
    },
    {
     "name": "stderr",
     "output_type": "stream",
     "text": [
      "100%|██████████| 1000/1000 [00:01<00:00, 809.37it/s]\n"
     ]
    },
    {
     "name": "stdout",
     "output_type": "stream",
     "text": [
      "n_mc_eps: [390  90  21]\n",
      "n_disc_eps: [ 6 12 24]\n"
     ]
    },
    {
     "name": "stderr",
     "output_type": "stream",
     "text": [
      "100%|██████████| 1000/1000 [00:01<00:00, 797.66it/s]\n"
     ]
    },
    {
     "name": "stdout",
     "output_type": "stream",
     "text": [
      "n_mc_eps: [842 210  52  13]\n",
      "n_disc_eps: [ 6 12 24 48]\n"
     ]
    },
    {
     "name": "stderr",
     "output_type": "stream",
     "text": [
      "100%|██████████| 1000/1000 [00:03<00:00, 326.61it/s]\n"
     ]
    },
    {
     "name": "stdout",
     "output_type": "stream",
     "text": [
      "n_mc_eps: [842 196  45  10]\n",
      "n_disc_eps: [ 6 12 24 48]\n"
     ]
    },
    {
     "name": "stderr",
     "output_type": "stream",
     "text": [
      "100%|██████████| 1000/1000 [00:03<00:00, 315.88it/s]\n"
     ]
    },
    {
     "name": "stdout",
     "output_type": "stream",
     "text": [
      "n_mc_eps: [1592  398   99   24]\n",
      "n_disc_eps: [ 6 12 24 48]\n"
     ]
    },
    {
     "name": "stderr",
     "output_type": "stream",
     "text": [
      "100%|██████████| 1000/1000 [00:03<00:00, 289.08it/s]\n"
     ]
    },
    {
     "name": "stdout",
     "output_type": "stream",
     "text": [
      "n_mc_eps: [1592  371   86   20]\n",
      "n_disc_eps: [ 6 12 24 48]\n"
     ]
    },
    {
     "name": "stderr",
     "output_type": "stream",
     "text": [
      "100%|██████████| 1000/1000 [00:03<00:00, 285.93it/s]\n"
     ]
    }
   ],
   "source": [
    "n_disc_mlmc_0 = 6\n",
    "n_eps = 5\n",
    "# tab_eps = np.linspace(3 * 10 ** (-4), 5 * 10 ** (-4), n_eps)[::-1]\n",
    "tab_eps = np.linspace(4 * 10 ** (-4), 10 * 10 ** (-4), n_eps)[::-1]\n",
    "\n",
    "mse_right_mlmc = np.zeros(n_eps)\n",
    "cost_right_mlmc = np.zeros(n_eps)\n",
    "mse_trap_mlmc = np.zeros(n_eps)\n",
    "cost_trap_mlmc = np.zeros(n_eps)\n",
    "\n",
    "for i in range(n_eps):\n",
    "    mse_right_mlmc[i], cost_right_mlmc[i] = rbergomi.compute_mse_atm_price(\n",
    "        T=T,\n",
    "        n_mse=n_mse,\n",
    "        true_price=vix_atm_call[0],\n",
    "        true_fut=float(vix_fut),\n",
    "        eps=tab_eps[i],\n",
    "        opt=\"mlmc\",\n",
    "        rule=\"right\",\n",
    "        seed=SEED,\n",
    "        n_disc_mlmc_0=n_disc_mlmc_0,\n",
    "    )\n",
    "    mse_trap_mlmc[i], cost_trap_mlmc[i] = rbergomi.compute_mse_atm_price(\n",
    "        T=T,\n",
    "        n_mse=n_mse,\n",
    "        true_price=vix_atm_call[0],\n",
    "        true_fut=float(vix_fut),\n",
    "        eps=tab_eps[i],\n",
    "        opt=\"mlmc\",\n",
    "        rule=\"trap\",\n",
    "        seed=SEED,\n",
    "        n_disc_mlmc_0=n_disc_mlmc_0,\n",
    "    )"
   ]
  },
  {
   "cell_type": "code",
   "execution_count": 77,
   "id": "20abcaad",
   "metadata": {},
   "outputs": [
    {
     "data": {
      "text/plain": [
       "array([9.94881906e-07, 7.61809020e-07, 5.53284303e-07, 3.59843984e-07,\n",
       "       2.52562789e-07])"
      ]
     },
     "execution_count": 77,
     "metadata": {},
     "output_type": "execute_result"
    }
   ],
   "source": [
    "mse_right_mlmc"
   ]
  },
  {
   "cell_type": "code",
   "execution_count": 78,
   "id": "4ecf3ef5",
   "metadata": {},
   "outputs": [
    {
     "data": {
      "text/plain": [
       "array([9.56795927e-07, 7.05531090e-07, 4.75110714e-07, 2.59400870e-07,\n",
       "       1.46328551e-07])"
      ]
     },
     "execution_count": 78,
     "metadata": {},
     "output_type": "execute_result"
    }
   ],
   "source": [
    "mse_trap_mlmc"
   ]
  },
  {
   "cell_type": "code",
   "execution_count": 79,
   "id": "bd399d4e",
   "metadata": {},
   "outputs": [
    {
     "data": {
      "image/png": "[encoded data removed]",
      "text/plain": [
       "<Figure size 800x600 with 1 Axes>"
      ]
     },
     "metadata": {
      "image/png": {
       "height": 550,
       "width": 744
      }
     },
     "output_type": "display_data"
    }
   ],
   "source": [
    "fig, ax = plt.subplots(1, 1, figsize=(8, 6))\n",
    "ax.plot(\n",
    "    np.log(cost_right_mc),\n",
    "    np.log(mse_right_mc),\n",
    "    \"x\",\n",
    "    color=COLORS[0],\n",
    "    label=\"MC (right)\",\n",
    ")\n",
    "ax.plot(\n",
    "    np.log(cost_right_mc),\n",
    "    np.log(mse_trap_mc),\n",
    "    \".\",\n",
    "    color=COLORS[1],\n",
    "    label=\"MC (trap)\",\n",
    ")\n",
    "ax.plot(\n",
    "    np.log(cost_right_mlmc),\n",
    "    np.log(mse_right_mlmc),\n",
    "    \"x\",\n",
    "    color=COLORS[2],\n",
    "    label=\"MLMC (right)\",\n",
    ")\n",
    "ax.plot(\n",
    "    np.log(cost_right_mlmc),\n",
    "    np.log(mse_trap_mlmc),\n",
    "    \".\",\n",
    "    color=COLORS[3],\n",
    "    label=\"MLMC (trap)\",\n",
    ")\n",
    "ax.set_xlabel(\"log(cost)\")\n",
    "ax.set_ylabel(\"log(MSE)\")\n",
    "ax.legend()\n",
    "plt.show()"
   ]
  },
  {
   "cell_type": "code",
   "execution_count": 87,
   "id": "913d077e",
   "metadata": {},
   "outputs": [
    {
     "name": "stdout",
     "output_type": "stream",
     "text": [
      "Linear regression for orange:\n",
      "  MC (right): alpha = -8.891, beta = -0.475\n",
      "  MC (trap): alpha = -8.787, beta = -0.483\n",
      "  MLMC (right): alpha = -8.504, beta = -0.544\n",
      "  MLMC (trap): alpha = -6.487, beta = -0.748\n"
     ]
    }
   ],
   "source": [
    "print(f\"Linear regression for {COLORS[i]}:\")\n",
    "alpha, beta = linear_regression(\n",
    "    np.log(cost_right_mc), np.log(mse_right_mc)\n",
    ")  # MC (right)\n",
    "print(f\"  MC (right): alpha = {alpha:.3f}, beta = {beta:.3f}\")\n",
    "alpha, beta = linear_regression(np.log(cost_right_mc), np.log(mse_trap_mc))  # MC (trap)\n",
    "print(f\"  MC (trap): alpha = {alpha:.3f}, beta = {beta:.3f}\")\n",
    "alpha, beta = linear_regression(\n",
    "    np.log(cost_right_mlmc), np.log(mse_right_mlmc)\n",
    ")  # MLMC (right)\n",
    "print(f\"  MLMC (right): alpha = {alpha:.3f}, beta = {beta:.3f}\")\n",
    "alpha, beta = linear_regression(\n",
    "    np.log(cost_right_mlmc), np.log(mse_trap_mlmc)\n",
    ")  # MLMC (trap)\n",
    "print(f\"  MLMC (trap): alpha = {alpha:.3f}, beta = {beta:.3f}\")\n"
   ]
  },
  {
   "cell_type": "markdown",
   "id": "d4f579a3",
   "metadata": {},
   "source": []
  },
  {
   "cell_type": "markdown",
   "id": "ebfd176c",
   "metadata": {},
   "source": [
    "# Appendix: control variate"
   ]
  },
  {
   "cell_type": "code",
   "execution_count": 88,
   "id": "2a145f58",
   "metadata": {},
   "outputs": [],
   "source": [
    "params = {\n",
    "    \"s0\": 1.0,\n",
    "    \"xi0\": lambda u: np.ones_like(u) * 0.3**2,\n",
    "    \"rho\": -0.7,\n",
    "    \"H\": 0.3,\n",
    "    \"eta\": 0.8,\n",
    "}\n",
    "\n",
    "rbergomi = RoughBergomi(**params)"
   ]
  },
  {
   "cell_type": "code",
   "execution_count": 89,
   "id": "d48d14e2",
   "metadata": {},
   "outputs": [],
   "source": [
    "T = 0.5\n",
    "n_mc = 3 * 10**5\n",
    "n_disc = 200\n",
    "rule = \"right\"\n",
    "\n",
    "vix, vix_cv = rbergomi.simulate_vix(\n",
    "    T=T, n_mc=n_mc, n_disc=n_disc, seed=SEED, control_variate=True, rule=rule\n",
    ")"
   ]
  },
  {
   "cell_type": "code",
   "execution_count": null,
   "id": "2c95ab67",
   "metadata": {},
   "outputs": [],
   "source": [
    "np.maximum(vix - vix.mean(), 0.0).mean()"
   ]
  },
  {
   "cell_type": "code",
   "execution_count": null,
   "id": "81ba2358",
   "metadata": {},
   "outputs": [],
   "source": [
    "(\n",
    "    np.maximum(vix - vix.mean(), 0.0).mean()\n",
    "    - np.maximum(vix_cv - vix_cv.mean(), 0.0).mean()\n",
    "    + rbergomi.price_vix_control_variate(T=T, K=vix_cv.mean(), n_disc=n_disc, rule=rule)\n",
    ")"
   ]
  },
  {
   "cell_type": "code",
   "execution_count": null,
   "id": "f82447d3",
   "metadata": {},
   "outputs": [],
   "source": [
    "k = np.linspace(-0.1, 0.1, 5)"
   ]
  },
  {
   "cell_type": "code",
   "execution_count": null,
   "id": "e2f6a1c2",
   "metadata": {},
   "outputs": [],
   "source": [
    "rbergomi.price_vix(k=k, T=T, n_mc=n_mc, n_disc=n_disc, rule=rule, control_variate=False)"
   ]
  },
  {
   "cell_type": "code",
   "execution_count": null,
   "id": "5d9892a5",
   "metadata": {},
   "outputs": [],
   "source": [
    "rbergomi.price_vix(k=k, T=T, n_mc=n_mc, n_disc=n_disc, rule=rule, control_variate=True)"
   ]
  },
  {
   "cell_type": "code",
   "execution_count": null,
   "id": "7aec74a8",
   "metadata": {},
   "outputs": [],
   "source": [
    "# TODO: clean control_vatiate option in methods."
   ]
  }
 ],
 "metadata": {
  "kernelspec": {
   "display_name": "local-vol-rough-vol",
   "language": "python",
   "name": "python3"
  },
  "language_info": {
   "codemirror_mode": {
    "name": "ipython",
    "version": 3
   },
   "file_extension": ".py",
   "mimetype": "text/x-python",
   "name": "python",
   "nbconvert_exporter": "python",
   "pygments_lexer": "ipython3",
   "version": "3.11.11"
  }
 },
 "nbformat": 4,
 "nbformat_minor": 5
}
