{
 "cells": [
  {
   "cell_type": "markdown",
   "id": "b466cb66",
   "metadata": {},
   "source": [
    "<font color=\"orange\">Multilevel Monte Carlo simulation for VIX options in the rough\n",
    "Bergomi model</font>"
   ]
  },
  {
   "cell_type": "markdown",
   "id": "f4342764",
   "metadata": {},
   "source": [
    "Convention is different. The parameter $\\eta$ in the paper must be \n",
    "replaced with $\\eta \\sqrt{2H}$"
   ]
  },
  {
   "cell_type": "markdown",
   "id": "3ea5bef8",
   "metadata": {},
   "source": [
    "Let $\\Delta = 30$ days. The VIX is defined as \n",
    "\n",
    "$$\n",
    "    \\text{VIX}_T = \\sqrt{\\frac1\\Delta \\int_{T}^{T+\\Delta} \\xi_T^u \\, du}\n",
    "$$\n",
    "\n",
    "where, for all $u \\geq T$,\n",
    "\n",
    "$$\n",
    "    \\xi_T^u = \\xi_0^u \n",
    "    \\exp\\left\\{ \\eta Y_T^u - \\eta^2(u^{2H} - (u-T)^{2H})\\right\\}\n",
    "$$\n",
    "\n",
    "and\n",
    "\n",
    "$$\n",
    "    Y_T^u = \\sqrt{2H} \\int_0^T (u-s)^{H-1/2} \\, dW_s\n",
    "$$\n",
    "\n",
    "We need to compute the covariance matrix of the vector \n",
    "$(Y_T^{u_i})_{0 \\leq i \\leq n}$ where $u_i = T + i \\Delta/n$ for $i = 0, 1, \\ldots, n$."
   ]
  },
  {
   "cell_type": "code",
   "execution_count": null,
   "id": "69c1b924",
   "metadata": {},
   "outputs": [],
   "source": [
    "%load_ext autoreload\n",
    "%autoreload 2\n",
    "%config InlineBackend.figure_format = 'retina'"
   ]
  },
  {
   "cell_type": "code",
   "execution_count": null,
   "id": "bdd08487",
   "metadata": {},
   "outputs": [],
   "source": [
    "import matplotlib.pyplot as plt\n",
    "from rbergomi import RoughBergomi\n",
    "import matplotlib as mpl\n",
    "import numpy as np\n",
    "import seaborn as sns\n",
    "from tqdm import tqdm\n",
    "\n",
    "sns.set_theme(\"talk\")\n",
    "mpl.rcParams[\"figure.figsize\"] = (8, 6)\n",
    "COLORS = [\"blue\", \"green\", \"red\"]\n",
    "SEED = 1234"
   ]
  },
  {
   "cell_type": "markdown",
   "id": "e1a373f0",
   "metadata": {},
   "source": [
    "For $n \\in \\mathbb{N}^*$ timesteps, \n",
    "consider the uniform grid $u_i = T + i \\Delta/n$ for $i = 0, 1, \\ldots, n$.\n",
    "\n",
    "We are interested in the right-point rectangle scheme\n",
    "\n",
    "$$\n",
    "    \\text{VIX}_T^{2,\\mathcal{R}_n}\n",
    "    = \\frac{1}{n} \\sum_{i=1}^{n} \\xi_T^{u_i}\n",
    "$$\n",
    "\n",
    "and the trapezoidal scheme\n",
    "\n",
    "$$\n",
    "    \\text{VIX}_T^{2,\\mathcal{T}_n}\n",
    "    = \\frac{1}{2n} \\sum_{i=1}^{n} \n",
    "    \\left(\\xi_T^{u_{i-1}} + \\xi_T^{u_i}\\right)\n",
    "$$\n",
    "\n",
    "Observe that $\\{\\log \\xi_{T}^{u_i}\\}_{0 \\leq i \\leq n}$\n",
    "forms an $(n+1)$-dimensional Gaussian vector with mean vector \n",
    "$\\mu = \\{\\mu_i\\}_{0 \\leq i \\leq n}$ and covariance matrix $C = \\{C_{i,j}\\}_{0 \\leq i,j \\leq n}$\n",
    "defined as\n",
    "\n",
    "$$\n",
    "    \\mu_i = \\log \\xi_0^{u_i} - \\frac{\\eta^2}{2} (u_i^{2H} - (u_i-T)^{2H})\n",
    "$$\n",
    "\n",
    "and \n",
    "\n",
    "$$\n",
    "    C_{i,j} = 2 H \\int_0^T (u_i-s)^{H-1/2} (u_j-s)^{H-1/2} \\, ds\n",
    "$$\n",
    "\n",
    "The covariance matrix term $C_{i,j}$ can be computed using the Gaussian \n",
    "hypergeometric function.\n",
    "\n",
    "A Monte Carlo estimator for the price of a VIX option with payoff $\\varphi$ is\n",
    "\n",
    "$$\n",
    "    \\mathbb{E}[\\varphi(\\text{VIX}_T^{2})] \n",
    "    \\approx \\frac{1}{M} \\sum_{m=1}^{M} \n",
    "    \\varphi \\left(\\frac{1}{n} \\sum_{i=1}^{n} \\exp\\{X_T^{u_i,m}\\}\\right)\n",
    "$$\n",
    "\n",
    "where $X_T^u = \\log \\xi_T^u$. \n",
    "\n",
    "A natural control variate is the lognormal random variable\n",
    "$\\exp\\left\\{\\frac{1}{n} \\sum_{i=1}^{n}X_T^{u_i} \\right\\}$. Observe that\n",
    "$\\frac{1}{n} \\sum_{i=1}^{n}X_T^{u_i}$ is normal with mean and standard deviation\n",
    "\n",
    "$$\n",
    "    \\bar{\\mu}_n = \\frac{1}{n} \\sum_{i=1}^{n} \\mu_i,\n",
    "    \\qquad\n",
    "    \\bar{\\sigma}_n = \\sqrt{\\frac{1}{n^2} \\sum_{i,j=1}^{n} C_{i,j}}\n",
    "$$\n",
    "\n",
    "\n"
   ]
  },
  {
   "cell_type": "code",
   "execution_count": null,
   "id": "71965f4c",
   "metadata": {},
   "outputs": [],
   "source": [
    "params = {\n",
    "    \"s0\": 1.0,\n",
    "    \"xi0\": lambda u: np.ones_like(u) * 0.3**2,\n",
    "    \"rho\": -0.7,\n",
    "    \"H\": 0.4,\n",
    "}\n",
    "params[\"eta\"] = 0.4 * np.sqrt(2.0 * params[\"H\"])\n",
    "\n",
    "rbergomi = RoughBergomi(**params)"
   ]
  },
  {
   "cell_type": "markdown",
   "id": "f935a673",
   "metadata": {},
   "source": [
    "# $L^2$ error for the strong error"
   ]
  },
  {
   "cell_type": "code",
   "execution_count": null,
   "id": "d9b6ba45",
   "metadata": {},
   "outputs": [],
   "source": [
    "T = 3.0 / 12.0\n",
    "n_mc = 1 * 10**5\n",
    "n_disc_ref = 2000"
   ]
  },
  {
   "cell_type": "code",
   "execution_count": null,
   "id": "59c76275",
   "metadata": {},
   "outputs": [],
   "source": [
    "# Simulate xi_{T}^{u_i}, shape is (n_disc+1, n_mc)\n",
    "xi = rbergomi.simulate_vix(T=T, n_mc=n_mc, n_disc=n_disc_ref, seed=SEED, return_xi=True)"
   ]
  },
  {
   "cell_type": "code",
   "execution_count": null,
   "id": "f76e5c1c",
   "metadata": {},
   "outputs": [],
   "source": [
    "vix2_right_ref = np.mean(np.exp(xi[1:, :]), axis=0)\n",
    "vix2_trap_ref = 0.5 * np.mean(np.exp(xi[:-1, :]) + np.exp(xi[1:, :]), axis=0)"
   ]
  },
  {
   "cell_type": "code",
   "execution_count": null,
   "id": "708e5f4d",
   "metadata": {},
   "outputs": [],
   "source": [
    "tab_n_disc = [25, 40, 50, 80, 100, 125, 200, 250]\n",
    "vix2_right = np.zeros((len(tab_n_disc), n_mc))\n",
    "vix2_trap = np.zeros_like(vix2_right)\n",
    "\n",
    "for i in range(len(tab_n_disc)):\n",
    "    idx = np.arange(start=0, stop=n_disc_ref, step=n_disc_ref // tab_n_disc[i])\n",
    "    vix2_right[i, :] = np.mean(np.exp(xi[1:, :][idx, :]), axis=0)\n",
    "    vix2_trap[i, :] = 0.5 * np.mean(\n",
    "        np.exp(xi[:-1, :][idx, :]) + np.exp(xi[1:, :][idx, :]), axis=0\n",
    "    )"
   ]
  },
  {
   "cell_type": "code",
   "execution_count": null,
   "id": "535b27d0",
   "metadata": {},
   "outputs": [],
   "source": [
    "strong_error_right = np.mean((vix2_right_ref - vix2_right) ** 2, axis=1) ** 0.5\n",
    "strong_error_trap = np.mean((vix2_trap_ref - vix2_trap) ** 2, axis=1) ** 0.5"
   ]
  },
  {
   "cell_type": "code",
   "execution_count": null,
   "id": "98c25e2a",
   "metadata": {},
   "outputs": [],
   "source": [
    "fig, ax = plt.subplots(1, 2, figsize=(2 * 8, 6))\n",
    "ax[0].plot(\n",
    "    np.log(tab_n_disc),\n",
    "    np.log(strong_error_right),\n",
    "    \"x\",\n",
    "    color=COLORS[0],\n",
    ")\n",
    "ax[0].plot(\n",
    "    np.log(tab_n_disc),\n",
    "    np.log(rbergomi.limit_strong_error_vix_right(n=tab_n_disc, T=T)),\n",
    "    \".\",\n",
    "    color=COLORS[0],\n",
    "    label=\"asympt\",\n",
    ")\n",
    "ax[0].set_xlabel(\"Number of discretization points\")\n",
    "ax[0].set_ylabel(\"Strong Error (right rule)\")\n",
    "ax[0].legend()\n",
    "ax[1].plot(\n",
    "    np.log(tab_n_disc),\n",
    "    np.log(strong_error_trap),\n",
    "    \"x\",\n",
    "    color=COLORS[1],\n",
    ")\n",
    "ax[1].plot(\n",
    "    np.log(tab_n_disc),\n",
    "    -(1 + rbergomi.H) * np.log(tab_n_disc) - 6,\n",
    "    \"--\",\n",
    "    color=COLORS[1],\n",
    ")\n",
    "ax[1].set_xlabel(\"Number of discretization points\")\n",
    "ax[1].set_ylabel(\"Strong Error (trapezoidal rule)\")\n",
    "plt.show()"
   ]
  },
  {
   "cell_type": "markdown",
   "id": "dd2a77c1",
   "metadata": {},
   "source": [
    "# Weak error"
   ]
  },
  {
   "cell_type": "code",
   "execution_count": null,
   "id": "5dc94d05",
   "metadata": {},
   "outputs": [],
   "source": [
    "call_atm_right_ref = np.maximum(\n",
    "    vix2_right_ref**0.5 - np.mean(vix2_right_ref**0.5), 0.0\n",
    ").mean()\n",
    "call_atm_trap_ref = np.maximum(\n",
    "    vix2_trap_ref**0.5 - np.mean(vix2_trap_ref**0.5), 0.0\n",
    ").mean()"
   ]
  },
  {
   "cell_type": "code",
   "execution_count": null,
   "id": "cb9681db",
   "metadata": {},
   "outputs": [],
   "source": [
    "call_atm_right = np.zeros(len(tab_n_disc))\n",
    "call_atm_trap = np.zeros_like(call_atm_right)\n",
    "\n",
    "for i in range(len(tab_n_disc)):\n",
    "    call_atm_right[i] = np.maximum(\n",
    "        vix2_right[i, :] ** 0.5 - np.mean(vix2_right[i, :] ** 0.5), 0.0\n",
    "    ).mean()\n",
    "    call_atm_trap[i] = np.maximum(\n",
    "        vix2_trap[i, :] ** 0.5 - np.mean(vix2_trap[i, :] ** 0.5), 0.0\n",
    "    ).mean()"
   ]
  },
  {
   "cell_type": "code",
   "execution_count": null,
   "id": "12278b57",
   "metadata": {},
   "outputs": [],
   "source": [
    "weak_error_right = np.abs(call_atm_right_ref - call_atm_right)\n",
    "weak_error_trap = np.abs(call_atm_trap_ref - call_atm_trap)"
   ]
  },
  {
   "cell_type": "code",
   "execution_count": null,
   "id": "ce244666",
   "metadata": {},
   "outputs": [],
   "source": [
    "fig, ax = plt.subplots(1, 2, figsize=(2 * 8, 6))\n",
    "ax[0].plot(\n",
    "    np.log(tab_n_disc),\n",
    "    np.log(weak_error_right),\n",
    "    \"x\",\n",
    "    color=COLORS[0],\n",
    ")\n",
    "ax[0].plot(\n",
    "    np.log(tab_n_disc),\n",
    "    -np.log(tab_n_disc) - 7,\n",
    "    \"--\",\n",
    "    color=COLORS[0],\n",
    "    label=\"slope -1\",\n",
    ")\n",
    "ax[0].plot(\n",
    "    np.log(tab_n_disc),\n",
    "    -2 * np.log(tab_n_disc) - 6,\n",
    "    \":\",\n",
    "    color=COLORS[0],\n",
    "    label=\"slope -2\",\n",
    ")\n",
    "ax[0].legend()\n",
    "ax[0].set_xlabel(\"Number of discretization points\")\n",
    "ax[0].set_ylabel(\"Weak Error (right rule)\")\n",
    "ax[1].plot(\n",
    "    np.log(tab_n_disc),\n",
    "    np.log(weak_error_trap),\n",
    "    \"x\",\n",
    "    color=COLORS[1],\n",
    ")\n",
    "ax[1].plot(\n",
    "    np.log(tab_n_disc),\n",
    "    -(1 + rbergomi.H) * np.log(tab_n_disc) - 7,\n",
    "    \"--\",\n",
    "    color=COLORS[1],\n",
    "    label=\"slope -(1+H)\",\n",
    ")\n",
    "ax[1].plot(\n",
    "    np.log(tab_n_disc),\n",
    "    -2 * np.log(tab_n_disc) - 6,\n",
    "    \":\",\n",
    "    color=COLORS[1],\n",
    "    label=\"slope -2\",\n",
    ")\n",
    "ax[1].legend()\n",
    "ax[1].set_xlabel(\"Number of discretization points\")\n",
    "ax[1].set_ylabel(\"Weak Error (trapezoidal rule)\")\n",
    "plt.show()"
   ]
  },
  {
   "cell_type": "markdown",
   "id": "db8b6783",
   "metadata": {},
   "source": [
    "# Multilevel Monte Carlo"
   ]
  },
  {
   "cell_type": "markdown",
   "id": "923a9e26",
   "metadata": {},
   "source": [
    "We price an ATM VIX call option."
   ]
  },
  {
   "cell_type": "code",
   "execution_count": null,
   "id": "328915e8",
   "metadata": {},
   "outputs": [],
   "source": [
    "params = {\n",
    "    \"s0\": 1.0,\n",
    "    \"xi0\": lambda u: np.ones_like(u) * 0.235**2,\n",
    "    \"rho\": -0.7,\n",
    "    \"H\": 0.1,\n",
    "    \"eta\": 0.3,\n",
    "}\n",
    "\n",
    "rbergomi = RoughBergomi(**params)"
   ]
  },
  {
   "cell_type": "code",
   "execution_count": null,
   "id": "22a92425",
   "metadata": {},
   "outputs": [],
   "source": [
    "T = 0.5\n",
    "n_eps = 10\n",
    "tab_eps = np.linspace(3 * 10 ** (-2), 9.9 * 10 ** (-2), n_eps)\n",
    "n_mse = 10**3"
   ]
  },
  {
   "cell_type": "code",
   "execution_count": null,
   "id": "270f0148",
   "metadata": {},
   "outputs": [],
   "source": [
    "n_disc_ref = 400\n",
    "n_mc_ref = 3 * 10**5"
   ]
  },
  {
   "cell_type": "code",
   "execution_count": null,
   "id": "380b2ae1",
   "metadata": {},
   "outputs": [],
   "source": [
    "vix_fut = rbergomi.price_vix_fut(\n",
    "    T=T,\n",
    "    n_mc=n_mc_ref,\n",
    "    n_disc=n_disc_ref,\n",
    "    seed=SEED,\n",
    "    rule=\"trap\",\n",
    "    control_variate=True,\n",
    ")"
   ]
  },
  {
   "cell_type": "code",
   "execution_count": null,
   "id": "81b691e3",
   "metadata": {},
   "outputs": [],
   "source": [
    "vix_atm_call = rbergomi.price_vix(\n",
    "    k=0.0,\n",
    "    T=T,\n",
    "    n_mc=n_mc_ref,\n",
    "    n_disc=n_disc_ref,\n",
    "    seed=SEED,\n",
    "    rule=\"trap\",\n",
    "    control_variate=True,\n",
    ")"
   ]
  },
  {
   "cell_type": "code",
   "execution_count": null,
   "id": "6b8a47ea",
   "metadata": {},
   "outputs": [],
   "source": [
    "vix_atm_call"
   ]
  },
  {
   "cell_type": "code",
   "execution_count": null,
   "id": "967bc94b",
   "metadata": {},
   "outputs": [],
   "source": []
  },
  {
   "cell_type": "code",
   "execution_count": null,
   "id": "71166f8a",
   "metadata": {},
   "outputs": [],
   "source": [
    "n_mc_eps = np.ceil(tab_eps ** (-2)).astype(int)\n",
    "n_disc_eps = np.ceil(tab_eps ** (-1)).astype(int)"
   ]
  },
  {
   "cell_type": "code",
   "execution_count": null,
   "id": "5dae95d4",
   "metadata": {},
   "outputs": [],
   "source": [
    "tab_right = []\n",
    "tab_trap = []\n",
    "for _ in tqdm(range(n_mse)):\n",
    "    tab_right.append(\n",
    "        np.array(\n",
    "            [\n",
    "                rbergomi.price_vix(\n",
    "                    k=0.0,\n",
    "                    T=T,\n",
    "                    n_mc=n_mc_eps[j],\n",
    "                    n_disc=n_disc_eps[j],\n",
    "                    seed=SEED,\n",
    "                    rule=\"right\",\n",
    "                )\n",
    "                for j in range(n_eps)\n",
    "            ]\n",
    "        )\n",
    "    )\n",
    "    tab_trap.append(\n",
    "        np.array(\n",
    "            [\n",
    "                rbergomi.price_vix(\n",
    "                    k=0.0,\n",
    "                    T=T,\n",
    "                    n_mc=n_mc_eps[j],\n",
    "                    n_disc=n_disc_eps[j],\n",
    "                    seed=SEED,\n",
    "                    rule=\"trap\",\n",
    "                )\n",
    "                for j in range(n_eps)\n",
    "            ]\n",
    "        )\n",
    "    )\n",
    "mse_right_mc = ((np.array(tab_right).reshape(n_mse, n_eps) - vix_atm_call) ** 2).mean(\n",
    "    axis=0\n",
    ")\n",
    "mse_trap_mc = ((np.array(tab_trap).reshape(n_mse, n_eps) - vix_atm_call) ** 2).mean(\n",
    "    axis=0\n",
    ")"
   ]
  },
  {
   "cell_type": "code",
   "execution_count": null,
   "id": "196b2ef9",
   "metadata": {},
   "outputs": [],
   "source": [
    "cost_right_mc = n_disc_eps**2 * n_mc_eps"
   ]
  },
  {
   "cell_type": "code",
   "execution_count": null,
   "id": "f048d36d",
   "metadata": {},
   "outputs": [],
   "source": [
    "def params_mlmc(K, T, n_disc_0, eps, option=\"rec\"):\n",
    "    # Lipschitz constant when payoff = max(np.sqrt(x)-strike, 0) -> call\n",
    "    lip = 1 / (2 * K)\n",
    "    lim = rbergomi.limit_strong_error_vix_right(n=n_disc_0, T=T)\n",
    "    c2 = 10 * (lip * lim) ** 2\n",
    "    c1 = lip * lim\n",
    "    level_max = int(np.ceil(np.log(np.sqrt(2) * c1 / eps) / np.log(2)))\n",
    "    if level_max <= 0:\n",
    "        raise ValueError(\"level_max must be >= 1.\")\n",
    "    n_mc_0 = int(np.ceil((2.0 / eps**2) * c2 * (level_max + 1)))\n",
    "    n_disc_levels = np.array(\n",
    "        [int(n_disc_0 * 2**level) for level in range(level_max + 1)]\n",
    "    )\n",
    "\n",
    "    if option == \"rec\":\n",
    "        n_mc_levels = np.array(\n",
    "            [max(1, int(n_mc_0 / 2 ** (2 * level))) for level in range(level_max + 1)]\n",
    "        )\n",
    "    elif option == \"trap\":\n",
    "        n_mc_levels = np.array(\n",
    "            [\n",
    "                max(1, int(n_mc_0 / 2 ** ((2.0 + rbergomi.H) * level)))\n",
    "                for level in range(level_max + 1)\n",
    "            ]\n",
    "        )\n",
    "    else:\n",
    "        raise ValueError(\"Unknown option: choose 'rec' or 'trap'\")\n",
    "    cost = int(np.sum(n_disc_levels * n_mc_levels**2))\n",
    "    return (n_disc_levels, n_mc_levels, level_max, cost)"
   ]
  },
  {
   "cell_type": "code",
   "execution_count": null,
   "id": "d47749a7",
   "metadata": {},
   "outputs": [],
   "source": [
    "# list_eps = [1e-3]\n",
    "# for eps in list_eps:\n",
    "#     print(f\"eps = {eps}\")\n",
    "#     n_disc_levels, n_mc_levels, level, cost = params_mlmc(\n",
    "#         K=vix_fut, T=T, n_disc_0=1, eps=eps, option=\"rec\"\n",
    "#     )\n",
    "#     list_rec = np.array(\n",
    "#         [\n",
    "#             rbergomi.price_vix(\n",
    "#                 k=0.0,\n",
    "#                 T=T,\n",
    "#                 n_mc=n_mc_levels[j],\n",
    "#                 n_disc=n_disc_levels[j],\n",
    "#                 seed=SEED,\n",
    "#                 rule=\"right\",\n",
    "#             )\n",
    "#             for j in range(level + 1)\n",
    "#         ]\n",
    "#     )"
   ]
  },
  {
   "cell_type": "code",
   "execution_count": null,
   "id": "0dd9e946",
   "metadata": {},
   "outputs": [],
   "source": [
    "# Comparison of MC and MLMC estimators with right and trapezoidal rules"
   ]
  },
  {
   "cell_type": "code",
   "execution_count": null,
   "id": "a843f39b",
   "metadata": {},
   "outputs": [],
   "source": [
    "fig, ax = plt.subplots(1, 1, figsize=(8, 6))\n",
    "ax.plot(\n",
    "    np.log(cost_right_mc),\n",
    "    np.log(mse_right_mc),\n",
    "    \"x\",\n",
    "    color=COLORS[0],\n",
    "    label=\"MC (right)\",\n",
    ")\n",
    "ax.plot(\n",
    "    np.log(cost_right_mc),\n",
    "    np.log(mse_trap_mc),\n",
    "    \".\",\n",
    "    color=COLORS[1],\n",
    "    label=\"MC (trap)\",\n",
    ")\n",
    "ax.legend()\n",
    "plt.show()"
   ]
  },
  {
   "cell_type": "markdown",
   "id": "d4f579a3",
   "metadata": {},
   "source": []
  },
  {
   "cell_type": "markdown",
   "id": "ebfd176c",
   "metadata": {},
   "source": [
    "# Appendix: control variate"
   ]
  },
  {
   "cell_type": "code",
   "execution_count": null,
   "id": "e344f168",
   "metadata": {},
   "outputs": [],
   "source": [
    "# add example and fix problems.\n",
    "# also, add control variate for call and put options."
   ]
  },
  {
   "cell_type": "code",
   "execution_count": null,
   "id": "2a145f58",
   "metadata": {},
   "outputs": [],
   "source": [
    "params = {\n",
    "    \"s0\": 1.0,\n",
    "    \"xi0\": lambda u: np.ones_like(u) * 0.3**2,\n",
    "    \"rho\": -0.7,\n",
    "    \"H\": 0.3,\n",
    "    \"eta\": 0.8,\n",
    "}\n",
    "\n",
    "rbergomi = RoughBergomi(**params)"
   ]
  },
  {
   "cell_type": "code",
   "execution_count": null,
   "id": "d48d14e2",
   "metadata": {},
   "outputs": [],
   "source": [
    "T = 0.5\n",
    "n_mc = 3 * 10**5\n",
    "n_disc = 200\n",
    "rule = \"right\"\n",
    "\n",
    "vix, vix_cv = rbergomi.simulate_vix(\n",
    "    T=T, n_mc=n_mc, n_disc=n_disc, seed=SEED, control_variate=True, rule=rule\n",
    ")"
   ]
  },
  {
   "cell_type": "code",
   "execution_count": null,
   "id": "2c95ab67",
   "metadata": {},
   "outputs": [],
   "source": [
    "np.maximum(vix - vix.mean(), 0.0).mean()"
   ]
  },
  {
   "cell_type": "code",
   "execution_count": null,
   "id": "81ba2358",
   "metadata": {},
   "outputs": [],
   "source": [
    "(\n",
    "    np.maximum(vix - vix.mean(), 0.0).mean()\n",
    "    - np.maximum(vix_cv - vix_cv.mean(), 0.0).mean()\n",
    "    + rbergomi.price_vix_control_variate(T=T, K=vix_cv.mean(), n_disc=n_disc, rule=rule)\n",
    ")"
   ]
  },
  {
   "cell_type": "code",
   "execution_count": null,
   "id": "f82447d3",
   "metadata": {},
   "outputs": [],
   "source": [
    "k = np.linspace(-0.1, 0.1, 5)"
   ]
  },
  {
   "cell_type": "code",
   "execution_count": null,
   "id": "e2f6a1c2",
   "metadata": {},
   "outputs": [],
   "source": [
    "rbergomi.price_vix(k=k, T=T, n_mc=n_mc, n_disc=n_disc, rule=rule, control_variate=False)"
   ]
  },
  {
   "cell_type": "code",
   "execution_count": null,
   "id": "5d9892a5",
   "metadata": {},
   "outputs": [],
   "source": [
    "rbergomi.price_vix(k=k, T=T, n_mc=n_mc, n_disc=n_disc, rule=rule, control_variate=True)"
   ]
  },
  {
   "cell_type": "code",
   "execution_count": null,
   "id": "7aec74a8",
   "metadata": {},
   "outputs": [],
   "source": [
    "# TODO: clean control_vatiate option in methods."
   ]
  }
 ],
 "metadata": {
  "kernelspec": {
   "display_name": ".venv",
   "language": "python",
   "name": "python3"
  },
  "language_info": {
   "codemirror_mode": {
    "name": "ipython",
    "version": 3
   },
   "file_extension": ".py",
   "mimetype": "text/x-python",
   "name": "python",
   "nbconvert_exporter": "python",
   "pygments_lexer": "ipython3",
   "version": "3.11.11"
  }
 },
 "nbformat": 4,
 "nbformat_minor": 5
}
